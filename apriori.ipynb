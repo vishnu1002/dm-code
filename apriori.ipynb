{
 "cells": [
  {
   "cell_type": "code",
   "execution_count": 14,
   "id": "898bb12b-eef0-43b3-899c-01d977478aa5",
   "metadata": {},
   "outputs": [
    {
     "name": "stdout",
     "output_type": "stream",
     "text": [
      "[['T100', 'I1, I2, I5'], ['T200', 'I2, I4'], ['T300', 'I2, I3'], ['T400', 'I1, I2, I4'], ['T500', 'I1, I3'], ['T600', 'I2, I3'], ['T700', 'I1, I3'], ['T800', 'I1, I2, I3, I5'], ['T900', 'I1, I2, I3']]\n"
     ]
    }
   ],
   "source": [
    "import pandas as pd\n",
    "import numpy as np\n",
    "import statistics\n",
    "\n",
    "data = pd.read_csv('apriory_data.csv')\n",
    "\n",
    "data = data.values.tolist()\n",
    "print(data)"
   ]
  },
  {
   "cell_type": "code",
   "execution_count": 15,
   "id": "a770019e-a890-4c51-a37d-4d4b3a68d920",
   "metadata": {},
   "outputs": [
    {
     "name": "stdout",
     "output_type": "stream",
     "text": [
      "ID's:  [' I2', ' I3', ' I4', ' I5', 'I1', 'I2']\n"
     ]
    }
   ],
   "source": [
    "unique_ids = set()\n",
    "\n",
    "for row in data:\n",
    "    ids = row[1].split(',')\n",
    "    unique_ids.update(ids)\n",
    "\n",
    "Id = sorted(unique_ids)\n",
    "print(\"ID's: \", Id)"
   ]
  },
  {
   "cell_type": "code",
   "execution_count": 17,
   "id": "7dc6bdc8-76c2-4671-a134-94158bec8651",
   "metadata": {},
   "outputs": [
    {
     "name": "stdout",
     "output_type": "stream",
     "text": [
      "C1\n",
      "{'I1': 6, ' I2': 4, ' I5': 2, 'I2': 3, ' I4': 2, ' I3': 6}\n"
     ]
    }
   ],
   "source": [
    "id_counts = {}\n",
    "\n",
    "for i in data:\n",
    "    itemsets = i[1].split(',')\n",
    "    for item in itemsets:\n",
    "        if item in id_counts:\n",
    "            id_counts[item] += 1\n",
    "        else:\n",
    "            id_counts[item] = 1\n",
    "\n",
    "print(\"C1\")\n",
    "print(id_counts)  "
   ]
  },
  {
   "cell_type": "code",
   "execution_count": 23,
   "id": "7c2ddf0d-6b4e-44f3-9728-3aa43cd01f96",
   "metadata": {},
   "outputs": [
    {
     "name": "stdout",
     "output_type": "stream",
     "text": [
      "L1\n",
      "{'I1': 6, ' I2': 4, ' I5': 2, 'I2': 3, ' I4': 2, ' I3': 6}\n"
     ]
    }
   ],
   "source": [
    "min = 2\n",
    "frequent_ids = {id: count for id, count in id_counts.items() if count >= min}\n",
    "\n",
    "print(\"L1\")\n",
    "print(frequent_ids)"
   ]
  },
  {
   "cell_type": "code",
   "execution_count": 24,
   "id": "d6e0aaca-0cd8-455f-a224-c10239e63265",
   "metadata": {},
   "outputs": [
    {
     "name": "stdout",
     "output_type": "stream",
     "text": [
      "C2\n",
      "{('I1', ' I2'): 4, ('I1', ' I5'): 2, ('I1', 'I2'): 4, ('I1', ' I4'): 1, ('I1', ' I3'): 4, (' I2', ' I5'): 2, (' I2', 'I2'): 4, (' I2', ' I4'): 1, (' I2', ' I3'): 2, (' I5', 'I2'): 2, (' I5', ' I4'): 0, (' I5', ' I3'): 1, ('I2', ' I4'): 2, ('I2', ' I3'): 4, (' I4', ' I3'): 0}\n"
     ]
    }
   ],
   "source": [
    "from itertools import combinations \n",
    "\n",
    "candidate_itemsets = list(combinations(frequent_ids.keys(), 2))\n",
    "\n",
    "itemset_counts ={}\n",
    "for itemset in candidate_itemsets:\n",
    "    itemset_counts[itemset] = 0\n",
    "    for i in k:\n",
    "        if all (id in i[1] for id in itemset):\n",
    "            itemset_counts[itemset] += 1\n",
    "print(\"C2\")\n",
    "print(itemset_counts)"
   ]
  },
  {
   "cell_type": "code",
   "execution_count": 25,
   "id": "ea121ae5-9fc5-4aa4-9b2d-89888bd33f94",
   "metadata": {},
   "outputs": [
    {
     "name": "stdout",
     "output_type": "stream",
     "text": [
      "L2\n",
      "{('I1', ' I2'): 4, ('I1', ' I5'): 2, ('I1', 'I2'): 4, ('I1', ' I3'): 4, (' I2', ' I5'): 2, (' I2', 'I2'): 4, (' I2', ' I3'): 2, (' I5', 'I2'): 2, ('I2', ' I4'): 2, ('I2', ' I3'): 4}\n"
     ]
    }
   ],
   "source": [
    "min = 2\n",
    "\n",
    "frequent_itemsets ={itemset:count for itemset,count in itemset_counts.items() if count >= min}\n",
    "\n",
    "print(\"L2\")\n",
    "print(frequent_itemsets)"
   ]
  },
  {
   "cell_type": "code",
   "execution_count": 8,
   "id": "846d1473-1dd5-4e45-a4e2-91e2ba93e6e8",
   "metadata": {},
   "outputs": [
    {
     "name": "stdout",
     "output_type": "stream",
     "text": [
      "{('I1', ' I2', ' I5'): 2, ('I1', ' I2', ' I3'): 2}\n"
     ]
    }
   ],
   "source": [
    "from itertools import combinations\n",
    "\n",
    "c3 = {}\n",
    "for t in k:\n",
    "    items = t[1].split(',')\n",
    "    for c in combinations(items, 3):\n",
    "        if all((c[i],  c[j]) in frequent_itemsets or (c[j], c[i]) in frequent_itemsets for i in range(3) for j in range(i+1, 3)):\n",
    "            c3[c] = c3.get(c, 0) + 1\n",
    "\n",
    "print(c3)"
   ]
  },
  {
   "cell_type": "code",
   "execution_count": 26,
   "id": "67a1bd49-5ae2-46ad-973e-b7fcbd50c1b6",
   "metadata": {},
   "outputs": [
    {
     "name": "stdout",
     "output_type": "stream",
     "text": [
      "Rule: ('I2', 'I5') -> I1, Confidence: 1.0\n",
      "Rule: ('I1', 'I5') -> I2, Confidence: 1.0\n",
      "Rule: ('I1', 'I2') -> I5, Confidence: 0.5\n"
     ]
    }
   ],
   "source": [
    "minsup = 2\n",
    "\n",
    "c3 = [('I1', 'I2', 'I5')]\n",
    "rules = []\n",
    "for i in range(len(c3[0])):\n",
    "    lhs = c3[0][:i] + c3[0][i+1:]\n",
    "    rhs = c3[0][i]\n",
    "    rules.append((lhs,rhs))\n",
    "    \n",
    "for rule in rules:\n",
    "    lhs, rhs = rule\n",
    "    lhs_and_rhs_count = 0\n",
    "    lhs_count = 0\n",
    "    for i in k:\n",
    "        if all(item in i[1] for item in lhs) and rhs in i[1]:\n",
    "            lhs_and_rhs_count += 1\n",
    "            lhs_count += 1\n",
    "        elif all(item in i[1] for item in lhs):\n",
    "            lhs_count += 1\n",
    "    confidence =  lhs_and_rhs_count / lhs_count\n",
    "    print(f\"Rule: {lhs} -> {rhs}, Confidence: {confidence}\")\n",
    "        "
   ]
  },
  {
   "cell_type": "code",
   "execution_count": 27,
   "id": "0fe9446b-dff3-4bc1-8738-0b6ba37f8fdb",
   "metadata": {},
   "outputs": [
    {
     "name": "stdout",
     "output_type": "stream",
     "text": [
      "Rule: ('I2', 'I3') -> I1, Confidence: 0.5\n",
      "Rule: ('I1', 'I3') -> I2, Confidence: 0.5\n",
      "Rule: ('I1', 'I2') -> I3, Confidence: 0.5\n"
     ]
    }
   ],
   "source": [
    "minsup = 2\n",
    "\n",
    "ca3 = [('I1', 'I2', 'I3')]\n",
    "rules = []\n",
    "for i in range(len(ca3[0])):\n",
    "    lhs = ca3[0][:i] + ca3[0][i+1:]\n",
    "    rhs = ca3[0][i]\n",
    "    rules.append((lhs,rhs))\n",
    "    \n",
    "for rule in rules:\n",
    "    lhs, rhs = rule\n",
    "    lhs_and_rhs_count = 0\n",
    "    lhs_count = 0\n",
    "    for i in k:\n",
    "        if all(item in i[1] for item in lhs) and rhs in i[1]:\n",
    "            lhs_and_rhs_count += 1\n",
    "            lhs_count += 1\n",
    "        elif all(item in i[1] for item in lhs):\n",
    "            lhs_count += 1\n",
    "    confidence =  lhs_and_rhs_count / lhs_count\n",
    "    print(f\"Rule: {lhs} -> {rhs}, Confidence: {confidence}\")\n",
    "        "
   ]
  },
  {
   "cell_type": "code",
   "execution_count": 28,
   "id": "f308d291-fe45-4c01-b2bb-0bb0b21a25b0",
   "metadata": {},
   "outputs": [
    {
     "name": "stdout",
     "output_type": "stream",
     "text": [
      "Requirement already satisfied: apyori in c:\\users\\atom\\anaconda3\\lib\\site-packages (1.1.2)\n",
      "Note: you may need to restart the kernel to use updated packages.\n"
     ]
    }
   ],
   "source": [
    "pip install apyori"
   ]
  },
  {
   "cell_type": "code",
   "execution_count": 12,
   "id": "c342f580-4e93-4947-902e-7fcdcc1ece30",
   "metadata": {},
   "outputs": [
    {
     "name": "stdout",
     "output_type": "stream",
     "text": [
      "frozenset({'I1'}) 0.6666666666666666\n",
      "frozenset({'I2'}) 0.7777777777777778\n",
      "frozenset({'I3'}) 0.6666666666666666\n",
      "frozenset({'I4'}) 0.2222222222222222\n",
      "frozenset({'I5'}) 0.2222222222222222\n",
      "frozenset({'I1', 'I2'}) 0.4444444444444444\n",
      "frozenset({'I1', 'I3'}) 0.4444444444444444\n",
      "frozenset({'I5', 'I1'}) 0.2222222222222222\n",
      "frozenset({'I3', 'I2'}) 0.4444444444444444\n",
      "frozenset({'I4', 'I2'}) 0.2222222222222222\n",
      "frozenset({'I5', 'I2'}) 0.2222222222222222\n",
      "frozenset({'I1', 'I3', 'I2'}) 0.2222222222222222\n",
      "frozenset({'I5', 'I1', 'I2'}) 0.2222222222222222\n",
      "frozenset({'I1', 'I3', 'I2'}) 2\n",
      "frozenset({'I5', 'I1', 'I2'}) 2\n"
     ]
    }
   ],
   "source": [
    "from apyori import apriori\n",
    "\n",
    "transactions = [['I1', 'I2', 'I5'], ['I2', 'I4'], ['I2', 'I3'], ['I1', 'I2', 'I4'], ['I1', 'I3'], ['I2', 'I3'], ['I1', 'I3'], ['I1', 'I2', 'I3', 'I5'], ['I1', 'I2', 'I3']]\n",
    "\n",
    "results = list(apriori(transactions, min_support=0.2))\n",
    "\n",
    "for itemset in results:\n",
    "    print(itemset.items, itemset.support)\n",
    "    \n",
    "for i in results:\n",
    "    if len(i.items)>2:\n",
    "        print(i.items,round(i.support*10))"
   ]
  },
  {
   "cell_type": "code",
   "execution_count": null,
   "id": "cbd93881-3cea-4b4f-85c0-cc1c6e236baf",
   "metadata": {},
   "outputs": [],
   "source": []
  }
 ],
 "metadata": {
  "kernelspec": {
   "display_name": "Python 3 (ipykernel)",
   "language": "python",
   "name": "python3"
  },
  "language_info": {
   "codemirror_mode": {
    "name": "ipython",
    "version": 3
   },
   "file_extension": ".py",
   "mimetype": "text/x-python",
   "name": "python",
   "nbconvert_exporter": "python",
   "pygments_lexer": "ipython3",
   "version": "3.11.7"
  }
 },
 "nbformat": 4,
 "nbformat_minor": 5
}
