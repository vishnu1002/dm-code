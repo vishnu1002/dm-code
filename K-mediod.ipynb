{
 "cells": [
  {
   "cell_type": "code",
   "execution_count": 2,
   "id": "48dd9dea",
   "metadata": {},
   "outputs": [
    {
     "name": "stdout",
     "output_type": "stream",
     "text": [
      "    x  y\n",
      "0   8  7\n",
      "1   3  7\n",
      "2   4  9\n",
      "3   9  6\n",
      "4   8  5\n",
      "5   5  8\n",
      "6   7  3\n",
      "7   8  4\n",
      "8   7  3\n",
      "9   8  4\n",
      "10  7  5\n",
      "11  4  5\n"
     ]
    }
   ],
   "source": [
    "import pandas as pd\n",
    "\n",
    "data = pd.read_csv(\"kmediod.csv\")\n",
    "print(data)"
   ]
  },
  {
   "cell_type": "code",
   "execution_count": 5,
   "id": "adc49ea3",
   "metadata": {},
   "outputs": [
    {
     "name": "stdout",
     "output_type": "stream",
     "text": [
      "Collecting scikit-learn-extra\n",
      "  Downloading scikit_learn_extra-0.3.0-cp38-cp38-win_amd64.whl (346 kB)\n",
      "Requirement already satisfied: numpy>=1.13.3 in c:\\programdata\\anaconda3\\lib\\site-packages (from scikit-learn-extra) (1.20.1)\n",
      "Requirement already satisfied: scipy>=0.19.1 in c:\\programdata\\anaconda3\\lib\\site-packages (from scikit-learn-extra) (1.6.2)\n",
      "Requirement already satisfied: scikit-learn>=0.23.0 in c:\\programdata\\anaconda3\\lib\\site-packages (from scikit-learn-extra) (0.24.1)\n",
      "Requirement already satisfied: threadpoolctl>=2.0.0 in c:\\programdata\\anaconda3\\lib\\site-packages (from scikit-learn>=0.23.0->scikit-learn-extra) (2.1.0)\n",
      "Requirement already satisfied: joblib>=0.11 in c:\\programdata\\anaconda3\\lib\\site-packages (from scikit-learn>=0.23.0->scikit-learn-extra) (1.0.1)\n",
      "Installing collected packages: scikit-learn-extra\n",
      "Successfully installed scikit-learn-extra-0.3.0\n"
     ]
    }
   ],
   "source": [
    "!pip install scikit-learn-extra"
   ]
  },
  {
   "cell_type": "code",
   "execution_count": 7,
   "id": "e1632774",
   "metadata": {},
   "outputs": [
    {
     "data": {
      "text/plain": [
       "array([[3., 7.],\n",
       "       [8., 4.]])"
      ]
     },
     "execution_count": 7,
     "metadata": {},
     "output_type": "execute_result"
    }
   ],
   "source": [
    "from sklearn_extra.cluster import KMedoids\n",
    "\n",
    "kmediods = KMedoids(n_clusters=2, random_state=0).fit(data)\n",
    "\n",
    "kmediods.cluster_centers_"
   ]
  },
  {
   "cell_type": "code",
   "execution_count": 8,
   "id": "b18bbe71",
   "metadata": {},
   "outputs": [
    {
     "data": {
      "text/plain": [
       "array([1, 0, 0, 1, 1, 0, 1, 1, 1, 1, 1, 0], dtype=int64)"
      ]
     },
     "execution_count": 8,
     "metadata": {},
     "output_type": "execute_result"
    }
   ],
   "source": [
    "kmediods.labels_"
   ]
  },
  {
   "cell_type": "code",
   "execution_count": 11,
   "id": "26953818",
   "metadata": {},
   "outputs": [
    {
     "name": "stdout",
     "output_type": "stream",
     "text": [
      "    x  y  labels\n",
      "0   8  7       1\n",
      "1   3  7       0\n",
      "2   4  9       0\n",
      "3   9  6       1\n",
      "4   8  5       1\n",
      "5   5  8       0\n",
      "6   7  3       1\n",
      "7   8  4       1\n",
      "8   7  3       1\n",
      "9   8  4       1\n",
      "10  7  5       1\n",
      "11  4  5       0\n"
     ]
    }
   ],
   "source": [
    "data['labels'] = kmediods.labels_\n",
    "print(data)"
   ]
  },
  {
   "cell_type": "code",
   "execution_count": 14,
   "id": "a73cc4c6",
   "metadata": {},
   "outputs": [
    {
     "data": {
      "text/plain": [
       "<matplotlib.legend.Legend at 0x2c34803e3d0>"
      ]
     },
     "execution_count": 14,
     "metadata": {},
     "output_type": "execute_result"
    },
    {
     "data": {
      "image/png": "[encoded data removed]",
      "text/plain": [
       "<Figure size 432x288 with 1 Axes>"
      ]
     },
     "metadata": {
      "needs_background": "light"
     },
     "output_type": "display_data"
    }
   ],
   "source": [
    "import matplotlib.pyplot as plt\n",
    "\n",
    "label_set = list(set(data['labels']))\n",
    "n_clusters_ = len(set(kmediods.labels_))\n",
    "\n",
    "for label in label_set:\n",
    "    Xclass = data[data['labels'] == label]\n",
    "    \n",
    "    if(label == -1):\n",
    "        plt.scatter(Xclass['x'], Xclass['y'], c='red', label='Outliers')\n",
    "    else:\n",
    "        plt.scatter(Xclass['x'], Xclass['y'], label='Cluster '+str(label))\n",
    "        \n",
    "plt.title(\"Number of Clusters: \" + str(n_clusters_))\n",
    "plt.legend()"
   ]
  },
  {
   "cell_type": "code",
   "execution_count": null,
   "id": "6ff7259b",
   "metadata": {},
   "outputs": [],
   "source": []
  }
 ],
 "metadata": {
  "kernelspec": {
   "display_name": "Python 3",
   "language": "python",
   "name": "python3"
  },
  "language_info": {
   "codemirror_mode": {
    "name": "ipython",
    "version": 3
   },
   "file_extension": ".py",
   "mimetype": "text/x-python",
   "name": "python",
   "nbconvert_exporter": "python",
   "pygments_lexer": "ipython3",
   "version": "3.8.8"
  }
 },
 "nbformat": 4,
 "nbformat_minor": 5
}
