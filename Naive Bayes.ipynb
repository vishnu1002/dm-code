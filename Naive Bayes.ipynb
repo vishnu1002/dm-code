{
 "cells": [
  {
   "cell_type": "code",
   "execution_count": 5,
   "id": "3428ed3c",
   "metadata": {},
   "outputs": [
    {
     "name": "stdout",
     "output_type": "stream",
     "text": [
      "    id     age  income student     credit class\n",
      "0    1   youth    high      no       fair    no\n",
      "1    2   youth    high      no  excellent    no\n",
      "2    3  middle    high      no       fair   yes\n",
      "3    4  senior  medium      no       fair   yes\n",
      "4    5  senior     low     yes       fair   yes\n",
      "5    6  senior     low     yes  excellent    no\n",
      "6    7  middle     low     yes  excellent   yes\n",
      "7    8   youth  medium      no       fair    no\n",
      "8    9   youth     low     yes       fair   yes\n",
      "9   10  senior  medium     yes       fair   yes\n",
      "10  11   youth  medium     yes  excellent   yes\n",
      "11  12  middle  medium      no  excellent   yes\n",
      "12  13  middle    high     yes       fair   yes\n",
      "13  14  senior  medium      no  excellent    no\n"
     ]
    }
   ],
   "source": [
    "import pandas as pd\n",
    "from math import log\n",
    "\n",
    "data = pd.read_csv('id3.csv')\n",
    "print(data)"
   ]
  },
  {
   "cell_type": "code",
   "execution_count": 6,
   "id": "702992ae",
   "metadata": {},
   "outputs": [
    {
     "name": "stdout",
     "output_type": "stream",
     "text": [
      "Probability of Buys Computer YES:  0.6428571428571429\n",
      "Probability of Buys Computer NO:  0.35714285714285715\n"
     ]
    }
   ],
   "source": [
    "p_data = {'age':'youth', 'income':'medium', 'student':'yes', 'credit':'fair'}\n",
    "\n",
    "yes, no = data['class'].value_counts()\n",
    "length = len(data)\n",
    "\n",
    "buysComputer_yes = yes/length\n",
    "buysComputer_no = no/length\n",
    "\n",
    "print(\"Probability of Buys Computer YES: \", buysComputer_yes)\n",
    "print(\"Probability of Buys Computer NO: \", buysComputer_no)"
   ]
  },
  {
   "cell_type": "code",
   "execution_count": 7,
   "id": "9caec7fe",
   "metadata": {},
   "outputs": [
    {
     "name": "stdout",
     "output_type": "stream",
     "text": [
      "np(age = youth | buys computer = yes):  0.2222222222222222\n",
      "np(age = youth | buys computer = no):  0.6\n"
     ]
    }
   ],
   "source": [
    "# Age = Youth -> Yes/No\n",
    "\n",
    "count1 = 0\n",
    "for i in range(len(data)):\n",
    "    if data['age'].iloc[i] == 'youth' and data['class'].iloc[i] == 'yes':\n",
    "        count1 += 1\n",
    "\n",
    "youth_buysComputer_yes = count1 / yes\n",
    "\n",
    "print(\"np(age = youth | buys computer = yes): \", youth_buysComputer_yes)\n",
    "\n",
    "count2 = 0\n",
    "for i in range(len(data)):\n",
    "        if data['age'].iloc[i] == 'youth' and data['class'].iloc[i] == 'no':\n",
    "            count2 += 1\n",
    "        \n",
    "youth_buysComputer_no = count2 / no\n",
    "\n",
    "print(\"np(age = youth | buys computer = no): \", youth_buysComputer_no)"
   ]
  },
  {
   "cell_type": "code",
   "execution_count": 8,
   "id": "da516a7b",
   "metadata": {},
   "outputs": [
    {
     "name": "stdout",
     "output_type": "stream",
     "text": [
      "np(income = medium | buys computer = yes):  0.4444444444444444\n",
      "np(income = medium | buys computer = no):  0.4\n"
     ]
    }
   ],
   "source": [
    "# Income = Medium -> Yes/No\n",
    "\n",
    "count3 = 0\n",
    "for i in range(len(data)):\n",
    "        if data['income'].iloc[i] == 'medium' and data['class'].iloc[i] == 'yes':\n",
    "            count3 += 1\n",
    "        \n",
    "medium_buysComputer_yes = count3 / yes\n",
    "\n",
    "print(\"np(income = medium | buys computer = yes): \", medium_buysComputer_yes)\n",
    "\n",
    "count4 = 0\n",
    "for i in range(len(data)):\n",
    "        if data['income'].iloc[i] == 'medium' and data['class'].iloc[i] == 'no':\n",
    "            count4 += 1\n",
    "        \n",
    "medium_buysComputer_no = count4 / no\n",
    "\n",
    "print(\"np(income = medium | buys computer = no): \", medium_buysComputer_no)"
   ]
  },
  {
   "cell_type": "code",
   "execution_count": 9,
   "id": "fc6b51d7",
   "metadata": {},
   "outputs": [
    {
     "name": "stdout",
     "output_type": "stream",
     "text": [
      "np(student = yes | buys computer = yes):  0.6666666666666666\n",
      "np(student = yes | buys computer = no):  0.2\n"
     ]
    }
   ],
   "source": [
    "# Student = Yes -> Yes/No\n",
    "\n",
    "count5 = 0\n",
    "for i in range(len(data)):\n",
    "        if data['student'].iloc[i] == 'yes' and data['class'].iloc[i] == 'yes':\n",
    "            count5 += 1\n",
    "        \n",
    "student_buysComputer_yes = count5 / yes\n",
    "\n",
    "print(\"np(student = yes | buys computer = yes): \", student_buysComputer_yes)\n",
    "\n",
    "count6 = 0\n",
    "for i in range(len(data)):\n",
    "        if data['student'].iloc[i] == 'yes' and data['class'].iloc[i] == 'no':\n",
    "            count6 += 1\n",
    "        \n",
    "student_buysComputer_no = count6 / no\n",
    "\n",
    "print(\"np(student = yes | buys computer = no): \", student_buysComputer_no)"
   ]
  },
  {
   "cell_type": "code",
   "execution_count": 10,
   "id": "80705dff",
   "metadata": {},
   "outputs": [
    {
     "name": "stdout",
     "output_type": "stream",
     "text": [
      "np(credit = fair | buys computer = yes):  0.6666666666666666\n",
      "np(credit = fair | buys computer = no):  0.4\n"
     ]
    }
   ],
   "source": [
    "# Credit = Fair -> Yes/No\n",
    "\n",
    "count7 = 0\n",
    "for i in range(len(data)):\n",
    "        if data['credit'].iloc[i] == 'fair' and data['class'].iloc[i] == 'yes':\n",
    "            count7 += 1\n",
    "        \n",
    "credit_buysComputer_yes = count7 / yes\n",
    "\n",
    "print(\"np(credit = fair | buys computer = yes): \", credit_buysComputer_yes)\n",
    "\n",
    "count8 = 0\n",
    "for i in range(len(data)):\n",
    "        if data['credit'].iloc[i] == 'fair' and data['class'].iloc[i] == 'no':\n",
    "            count8 += 1\n",
    "        \n",
    "credit_buysComputer_no = count8 / no\n",
    "\n",
    "print(\"np(credit = fair | buys computer = no): \", credit_buysComputer_no)"
   ]
  },
  {
   "cell_type": "code",
   "execution_count": 11,
   "id": "1724a556",
   "metadata": {},
   "outputs": [
    {
     "name": "stdout",
     "output_type": "stream",
     "text": [
      "Buys Computer -> Yes:  0.04389574759945129\n",
      "Buys Computer -> No:  0.019200000000000002\n",
      "Predicted Class: YES\n"
     ]
    }
   ],
   "source": [
    "yes = youth_buysComputer_yes * medium_buysComputer_yes * student_buysComputer_yes * credit_buysComputer_yes\n",
    "no = youth_buysComputer_no * medium_buysComputer_no * student_buysComputer_no * credit_buysComputer_no\n",
    "print(\"Buys Computer -> Yes: \", yes)\n",
    "print(\"Buys Computer -> No: \", no)\n",
    "\n",
    "c1 = yes * buysComputer_yes\n",
    "c2 = no * buysComputer_no\n",
    "\n",
    "if(c1 > c2):\n",
    "    print(\"Predicted Class: YES\")\n",
    "else:\n",
    "    print(\"Predicted Class: NO\")"
   ]
  },
  {
   "cell_type": "code",
   "execution_count": null,
   "id": "d5ef30cb-e2cd-4a22-bdcb-fe08a5e27988",
   "metadata": {},
   "outputs": [],
   "source": []
  }
 ],
 "metadata": {
  "kernelspec": {
   "display_name": "Python 3 (ipykernel)",
   "language": "python",
   "name": "python3"
  },
  "language_info": {
   "codemirror_mode": {
    "name": "ipython",
    "version": 3
   },
   "file_extension": ".py",
   "mimetype": "text/x-python",
   "name": "python",
   "nbconvert_exporter": "python",
   "pygments_lexer": "ipython3",
   "version": "3.11.7"
  }
 },
 "nbformat": 4,
 "nbformat_minor": 5
}
