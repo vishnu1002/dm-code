{
 "cells": [
  {
   "cell_type": "code",
   "execution_count": 17,
   "id": "fa012a09-04b8-4d6c-9a2a-aa8462301583",
   "metadata": {},
   "outputs": [],
   "source": [
    "import numpy as np\n",
    "import pandas as pd\n",
    "import statistics"
   ]
  },
  {
   "cell_type": "code",
   "execution_count": 18,
   "id": "33c6b54a-d394-4952-98b9-8e174ebbb62d",
   "metadata": {},
   "outputs": [
    {
     "name": "stdout",
     "output_type": "stream",
     "text": [
      "[4, 8, 15, 21, 21, 24, 25, 28, 34]\n"
     ]
    }
   ],
   "source": [
    "data = [4, 8, 15, 21, 21, 24, 25, 28, 34]\n",
    "print(data)"
   ]
  },
  {
   "cell_type": "code",
   "execution_count": 19,
   "id": "7975a582-d224-46a9-8a38-1b46c834c87f",
   "metadata": {},
   "outputs": [
    {
     "name": "stdout",
     "output_type": "stream",
     "text": [
      "[4, 8, 15]\n",
      "[21, 21, 24]\n",
      "[25, 28, 34]\n"
     ]
    }
   ],
   "source": [
    "size = 3\n",
    "def freq(data, size):\n",
    "    n = len(data)//size\n",
    "    for i in range(size):\n",
    "        chunk = data[i*n : (i+1)*n]\n",
    "        print(chunk)\n",
    "\n",
    "freq(data, size)"
   ]
  },
  {
   "cell_type": "code",
   "execution_count": 20,
   "id": "cb411800-0455-479b-9e43-067fa6d3c13f",
   "metadata": {},
   "outputs": [],
   "source": [
    "bin1 = np.zeros((3, 3,))\n",
    "bin2 = np.zeros((3, 3,))\n",
    "bin3 = np.zeros((3, 3,))"
   ]
  },
  {
   "cell_type": "code",
   "execution_count": 21,
   "id": "67ce0e38-91fd-4aab-89d6-5da684ace936",
   "metadata": {},
   "outputs": [
    {
     "name": "stdout",
     "output_type": "stream",
     "text": [
      "[[ 0.  0.  9.]\n",
      " [ 0.  0. 22.]\n",
      " [ 0.  0. 29.]]\n"
     ]
    }
   ],
   "source": [
    "# Bin Mean\n",
    "\n",
    "for i in range(0, 9, 3):\n",
    "    k = i//3\n",
    "    mean = (data[i] + data[i+1] + data[i+2])/3\n",
    "    for i in range(3):\n",
    "        bin1[k,j] = mean\n",
    "\n",
    "print(bin1)"
   ]
  },
  {
   "cell_type": "code",
   "execution_count": 22,
   "id": "b78d9d06-64db-4c1c-8570-a72d3ca5b67a",
   "metadata": {},
   "outputs": [
    {
     "name": "stdout",
     "output_type": "stream",
     "text": [
      "[[ 0.  0. 21.]\n",
      " [ 0.  0. 21.]\n",
      " [ 0.  0. 21.]]\n"
     ]
    }
   ],
   "source": [
    "# Bin Median\n",
    "\n",
    "for i in range(0, 9, 3):\n",
    "    k = i//3\n",
    "    for i in range(3):\n",
    "        bin2[k,j] = data[i+1]\n",
    "\n",
    "print(bin2)"
   ]
  },
  {
   "cell_type": "code",
   "execution_count": 23,
   "id": "481d65bd-2e73-41b6-8535-0a2d0fd5ec69",
   "metadata": {},
   "outputs": [
    {
     "name": "stdout",
     "output_type": "stream",
     "text": [
      "[[ 4.  4. 15.]\n",
      " [21. 21. 24.]\n",
      " [25. 25. 34.]]\n"
     ]
    }
   ],
   "source": [
    "# Bin Boundary\n",
    "\n",
    "for i in range(0, 9, 3):\n",
    "    k = i//3\n",
    "    bin3[k] = (data[i], data[i], data[i+2])\n",
    "\n",
    "print(bin3)"
   ]
  },
  {
   "cell_type": "code",
   "execution_count": null,
   "id": "4b753a7d-c12c-4388-bfe2-8f76bf48e7f7",
   "metadata": {},
   "outputs": [],
   "source": []
  },
  {
   "cell_type": "code",
   "execution_count": null,
   "id": "41361ce5-a049-4f1b-a968-6024ff87514c",
   "metadata": {},
   "outputs": [],
   "source": []
  }
 ],
 "metadata": {
  "kernelspec": {
   "display_name": "Python 3 (ipykernel)",
   "language": "python",
   "name": "python3"
  },
  "language_info": {
   "codemirror_mode": {
    "name": "ipython",
    "version": 3
   },
   "file_extension": ".py",
   "mimetype": "text/x-python",
   "name": "python",
   "nbconvert_exporter": "python",
   "pygments_lexer": "ipython3",
   "version": "3.11.7"
  }
 },
 "nbformat": 4,
 "nbformat_minor": 5
}
