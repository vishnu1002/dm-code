{
 "cells": [
  {
   "cell_type": "code",
   "execution_count": 37,
   "id": "0a6fe714-5ea9-4a37-9fe8-366f0015f7bc",
   "metadata": {},
   "outputs": [
    {
     "name": "stdout",
     "output_type": "stream",
     "text": [
      "    id     age  income student     credit class\n",
      "0    1   youth    high      no       fair    no\n",
      "1    2   youth    high      no  excellent    no\n",
      "2    3  middle    high      no       fair   yes\n",
      "3    4  senior  medium      no       fair   yes\n",
      "4    5  senior     low     yes       fair   yes\n",
      "5    6  senior     low     yes  excellent    no\n",
      "6    7  middle     low     yes  excellent   yes\n",
      "7    8   youth  medium      no       fair    no\n",
      "8    9   youth     low     yes       fair   yes\n",
      "9   10  senior  medium     yes       fair   yes\n",
      "10  11   youth  medium     yes  excellent   yes\n",
      "11  12  middle  medium      no  excellent   yes\n",
      "12  13  middle    high     yes       fair   yes\n",
      "13  14  senior  medium      no  excellent    no\n"
     ]
    }
   ],
   "source": [
    "import pandas as pd\n",
    "from math import log\n",
    "\n",
    "data = pd.read_csv('id3.csv')\n",
    "print(data)"
   ]
  },
  {
   "cell_type": "code",
   "execution_count": 38,
   "id": "d936fba2-ccc0-427c-8547-280d4916e6e7",
   "metadata": {},
   "outputs": [
    {
     "name": "stdout",
     "output_type": "stream",
     "text": [
      "P(BC = yes):  0.6428571428571429\n",
      "P(BC = no):  0.35714285714285715\n"
     ]
    }
   ],
   "source": [
    "p_data = {'age': 'youth', 'income': 'medium', 'student': 'yes', 'credit': 'fair'}\n",
    "\n",
    "yes, no = data['class'].value_counts()\n",
    "length = len(data)\n",
    "\n",
    "bc_yes = yes/length\n",
    "bc_no = no/length\n",
    "\n",
    "print(\"P(BC = yes): \", bc_yes)\n",
    "print(\"P(BC = no): \", bc_no)"
   ]
  },
  {
   "cell_type": "code",
   "execution_count": 39,
   "id": "b68b09bb-a291-492e-a775-29b2bb93be69",
   "metadata": {},
   "outputs": [
    {
     "name": "stdout",
     "output_type": "stream",
     "text": [
      "p(age = youth | BC = yes):  0.2222222222222222\n",
      "p(age = youth | BC = no):  0.6\n"
     ]
    }
   ],
   "source": [
    "# Age = youth | BC = yes/no\n",
    "\n",
    "count1 = ((data['age'] == 'youth') & (data['class'] == 'yes')).sum()\n",
    "count2 = ((data['age'] == 'youth') & (data['class'] == 'no')).sum()\n",
    "\n",
    "youth_bc_yes = count1 / yes\n",
    "youth_bc_no = count2 / no\n",
    "\n",
    "print(\"p(age = youth | BC = yes): \", youth_bc_yes)\n",
    "print(\"p(age = youth | BC = no): \", youth_bc_no)"
   ]
  },
  {
   "cell_type": "code",
   "execution_count": 46,
   "id": "39bbc39a-9257-424b-bef2-c617200285ae",
   "metadata": {},
   "outputs": [
    {
     "name": "stdout",
     "output_type": "stream",
     "text": [
      "P(income = medium | BC = yes):  0.4444444444444444\n",
      "P(income = medium | BC = no):  0.4\n"
     ]
    }
   ],
   "source": [
    "# Income = medium | BC = yes/no\n",
    "\n",
    "count3 = ((data['income'] == 'medium') & (data['class'] == 'yes')).sum()\n",
    "count4 = ((data['income'] == 'medium') & (data['class'] == 'no')).sum()\n",
    "\n",
    "medium_bc_yes = count3 / yes\n",
    "medium_bc_no = count4 / no\n",
    "\n",
    "print(\"P(income = medium | BC = yes): \", medium_bc_yes)\n",
    "print(\"P(income = medium | BC = no): \", medium_bc_no)"
   ]
  },
  {
   "cell_type": "code",
   "execution_count": 47,
   "id": "6b5d5488-d84f-423d-870f-2c9b2386905c",
   "metadata": {},
   "outputs": [
    {
     "name": "stdout",
     "output_type": "stream",
     "text": [
      "P(student = yes | BC = yes):  0.6666666666666666\n",
      "P(student = yes | BC = no):  0.8\n"
     ]
    }
   ],
   "source": [
    "# Student = yes | BC = yes/no\n",
    "\n",
    "count5 = ((data['student'] == 'yes') & (data['class'] == 'yes')).sum()\n",
    "count6 = ((data['student'] == 'no') & (data['class'] == 'no')).sum()\n",
    "\n",
    "student_bc_yes = count5 / yes\n",
    "student_bc_no = count6 / no\n",
    "\n",
    "print(\"P(student = yes | BC = yes): \", student_bc_yes)\n",
    "print(\"P(student = yes | BC = no): \", student_bc_no)"
   ]
  },
  {
   "cell_type": "code",
   "execution_count": 48,
   "id": "347d0093-857e-44cb-b679-60faf11c4bfa",
   "metadata": {},
   "outputs": [
    {
     "name": "stdout",
     "output_type": "stream",
     "text": [
      "P(credit = fair | BC = yes):  0.6666666666666666\n",
      "P(credit = fair | BC = no):  0.4\n"
     ]
    }
   ],
   "source": [
    "# Credit = fair | BC = yes/no\n",
    "\n",
    "count7 = ((data['credit'] == 'fair') & (data['class'] == 'yes')).sum()\n",
    "count8 = ((data['credit'] == 'fair') & (data['class'] == 'no')).sum()\n",
    "\n",
    "credit_bc_yes = count7 / yes\n",
    "credit_bc_no = count8 / no\n",
    "\n",
    "print(\"P(credit = fair | BC = yes): \", credit_bc_yes)\n",
    "print(\"P(credit = fair | BC = no): \", credit_bc_no)"
   ]
  },
  {
   "cell_type": "code",
   "execution_count": 49,
   "id": "1e9cfe8f-18ed-4a41-a267-d96594b5f2b3",
   "metadata": {},
   "outputs": [
    {
     "name": "stdout",
     "output_type": "stream",
     "text": [
      "Total (BC = yes):  0.04389574759945129\n",
      "Total (BC = no):  0.07680000000000001\n",
      "Predicted Class: YES\n"
     ]
    }
   ],
   "source": [
    "total_yes = youth_bc_yes * medium_bc_yes * student_bc_yes * credit_bc_yes\n",
    "total_no = youth_bc_no * medium_bc_no * student_bc_no * credit_bc_no\n",
    "\n",
    "print(\"Total (BC = yes): \", total_yes)\n",
    "print(\"Total (BC = no): \", total_no)\n",
    "\n",
    "c1 = yes * total_yes\n",
    "c2 = no * total_no\n",
    "\n",
    "if(c1 > c2):\n",
    "    print(\"Predicted Class: YES\")\n",
    "else:\n",
    "    print(\"Predicted Class: NO\")"
   ]
  }
 ],
 "metadata": {
  "kernelspec": {
   "display_name": "Python 3 (ipykernel)",
   "language": "python",
   "name": "python3"
  },
  "language_info": {
   "codemirror_mode": {
    "name": "ipython",
    "version": 3
   },
   "file_extension": ".py",
   "mimetype": "text/x-python",
   "name": "python",
   "nbconvert_exporter": "python",
   "pygments_lexer": "ipython3",
   "version": "3.11.7"
  }
 },
 "nbformat": 4,
 "nbformat_minor": 5
}
