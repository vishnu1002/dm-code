{
 "cells": [
  {
   "cell_type": "code",
   "execution_count": 1,
   "id": "3428ed3c",
   "metadata": {},
   "outputs": [],
   "source": [
    "import pandas as pd\n",
    "import numpy as np\n",
    "import statistics"
   ]
  },
  {
   "cell_type": "code",
   "execution_count": null,
   "id": "0405812c",
   "metadata": {},
   "outputs": [],
   "source": [
    "from itertools import combinations\n",
    "\n",
    "candidate_items = list(conbinations(frequent_irds.keys(), 2))\n",
    "\n",
    "itemset_counts = {}\n",
    "\n",
    "for itemset in candidate_itemsets:\n",
    "    itemset_counts[itemset] = 0\n",
    "    for i in k:\n",
    "        if all(id in i[1] for id in itemset):\n",
    "            itemset_counts[itemset] += 1\n",
    "            \n",
    "print(\"C2\")\n",
    "print(itemset_counts)"
   ]
  },
  {
   "cell_type": "code",
   "execution_count": null,
   "id": "0d1e1880",
   "metadata": {},
   "outputs": [],
   "source": [
    "min = 2\n",
    "\n",
    "frequent_items = {itemset: count for itemset, count in itemset_counts.items() if count >= min}\n",
    "print(\"L2\")\n",
    "print(frequent_items)"
   ]
  },
  {
   "cell_type": "code",
   "execution_count": 1,
   "id": "aa91d8b8",
   "metadata": {},
   "outputs": [],
   "source": [
    "# C2\n",
    "\n",
    "from itertools import combinations\n",
    "\n",
    "# Frequents IDs from previous steps\n",
    "# Generate all apossible combinations of size 2 from frequent IDs\n",
    "\n",
    "candidate_itemsets = list(combinations(frequent_ids.keys(), 2))\n",
    "\n",
    "itemset_counts = {}\n",
    "for itemset in candidate_itemsets:\n",
    "    itemsent_counts[itemset] = 0\n",
    "    for i in k:\n",
    "        if all(id in i[1] for id in itemset):\n",
    "            itemset_counts[itemset] += 1\n",
    "print(\"C2 \\n\", itemset_counts)"
   ]
  },
  {
   "cell_type": "code",
   "execution_count": null,
   "id": "7cbb3937",
   "metadata": {},
   "outputs": [],
   "source": [
    "# Min Support Threshold\n",
    "\n",
    "min = 2\n",
    "\n",
    "# Filter candidate itemsets that meer the minimum suppot threshold\n",
    "frequent_itemsets = {itemset: count for itemset, count in itemset_counts.items() if count >= min}\n",
    "print(\"L2 \\n\", frequent_itemsets)"
   ]
  },
  {
   "cell_type": "code",
   "execution_count": null,
   "id": "f9c5426d",
   "metadata": {},
   "outputs": [],
   "source": [
    "from itertools import combinations\n",
    "\n",
    "# Given list of transcations\n",
    "# Generate condidate itemsets of size 3\n",
    "\n",
    "cs = {}\n",
    "for t in k:\n",
    "    items = t[1].split(',')\n",
    "    for c in combinations(items, 3):\n",
    "        #///\n",
    "        cs[c] = cs.get(c, 0) + 1\n",
    "print()"
   ]
  },
  {
   "cell_type": "code",
   "execution_count": null,
   "id": "7d2d0ab2",
   "metadata": {},
   "outputs": [],
   "source": [
    "min_sup = 2\n",
    "\n",
    "cs = [(\"I1\", \"I2\", \"I5\")]\n",
    "\n",
    "rules = []\n",
    "for i in rane(len(cs[0])):\n",
    "    lhs = cs[0][:i] + cs[0][i+1:]\n",
    "    rhs = cs[0][i]\n",
    "    rules.append(lhs, rhs)\n",
    "\n",
    "\n",
    "# Calculate confidence for each rule\n",
    "for rule in rules:\n",
    "    lhs, rhs = rule\n",
    "    lhs_and_rhs_count = 0\n",
    "    lhs_count = 0\n",
    "    for i in k:\n",
    "        if all(item in i[1] for item in lhs) and rhs in i[1]:\n",
    "            lhs_and_rhs_count += 1\n",
    "            lhs_count += 1\n",
    "        elif all(items in i[1] for item in lhs):\n",
    "            lhs_count += 1\n",
    "    confidence = lhs_and_rhs_count / lhs_count\n",
    "    print(f\"Rule: {lhs} -> {rhs}, Confidence: {confidence}\")"
   ]
  },
  {
   "cell_type": "code",
   "execution_count": null,
   "id": "21551b7a",
   "metadata": {},
   "outputs": [],
   "source": [
    "min_sup = 2\n",
    "\n",
    "ca3 = [(\"I1\", \"I2\", \"I3\")]\n",
    "\n",
    "#Rules from frequent itemset\n",
    "rules=[]\n",
    "for i in range(len(cas[0])):\n",
    "    lhs = ca3[0][:i] + ca3[0][i+1:]\n",
    "    rhs = ca3[0][i]\n",
    "    rules.append((lhs, rhs))\n",
    "\n",
    "# Calculate confidence for each rule\n",
    "for rule in rules:\n",
    "    lhs, rhs = rule\n",
    "    lhs_and_rhs_count = 0\n",
    "    lhs_count = 0\n",
    "    for i in k:\n",
    "        if all(items in i[1] for item in lhs) and rhs in i[1]:\n",
    "            lhs_and_rhs_count += 1\n",
    "            lhs_count += 1\n",
    "        elif all(item in i[1] for item in lhs):\n",
    "            lhs_count += 1\n",
    "    confidence = lhs_and_rhs_count / lhs_count\n",
    "    print(f\"Rule: {lhs} -> {rhs}, Confidence: {confidence}\")"
   ]
  },
  {
   "cell_type": "code",
   "execution_count": 3,
   "id": "dcce23af",
   "metadata": {},
   "outputs": [
    {
     "name": "stdout",
     "output_type": "stream",
     "text": [
      "Collecting apyoriNote: you may need to restart the kernel to use updated packages.\n",
      "\n",
      "  Downloading apyori-1.1.2.tar.gz (8.6 kB)\n",
      "Building wheels for collected packages: apyori\n",
      "  Building wheel for apyori (setup.py): started\n",
      "  Building wheel for apyori (setup.py): finished with status 'done'\n",
      "  Created wheel for apyori: filename=apyori-1.1.2-py3-none-any.whl size=5975 sha256=907fbd9bb2925dbeb18be920bc7462e345caad61c7275fd98ce61ee38a711af2\n",
      "  Stored in directory: c:\\users\\android\\appdata\\local\\pip\\cache\\wheels\\1b\\02\\6c\\a45230be8603bd95c0a51cd2b289aefdd860c1a100eab73661\n",
      "Successfully built apyori\n",
      "Installing collected packages: apyori\n",
      "Successfully installed apyori-1.1.2\n"
     ]
    }
   ],
   "source": [
    "pip install apyori"
   ]
  },
  {
   "cell_type": "code",
   "execution_count": 9,
   "id": "150024bb",
   "metadata": {},
   "outputs": [],
   "source": [
    "# using Apriori Package\n",
    "\n",
    "from apyori import apriori\n",
    "\n",
    "transcations = [[\"I1\", \"I2\", \"I5\"], [\"I2\", \"I4\"], [\"I2\", \"I3\"], [\"I1\", \"I2\", \"I4\"], [\"I1\", \"I3\"], [\"I1\", \"I2\"], [\"I1\", \"I3\"], [\"I1\", \"I2\", \"I5\"]]\n",
    "\n",
    "results = list(apriori(transcations, min_support=2))\n",
    "\n",
    "for itemset in results:\n",
    "    print(itemset.items, itemset.support)\n",
    "\n",
    "for i in results:\n",
    "    if len(i.items) > 2:\n",
    "        print(i.items, round(i.support*10))"
   ]
  },
  {
   "cell_type": "code",
   "execution_count": null,
   "id": "63e8eddd",
   "metadata": {},
   "outputs": [],
   "source": []
  }
 ],
 "metadata": {
  "kernelspec": {
   "display_name": "Python 3",
   "language": "python",
   "name": "python3"
  },
  "language_info": {
   "codemirror_mode": {
    "name": "ipython",
    "version": 3
   },
   "file_extension": ".py",
   "mimetype": "text/x-python",
   "name": "python",
   "nbconvert_exporter": "python",
   "pygments_lexer": "ipython3",
   "version": "3.8.8"
  }
 },
 "nbformat": 4,
 "nbformat_minor": 5
}
