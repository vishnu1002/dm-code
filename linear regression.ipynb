{
 "cells": [
  {
   "cell_type": "code",
   "execution_count": 2,
   "id": "3428ed3c",
   "metadata": {},
   "outputs": [
    {
     "name": "stdout",
     "output_type": "stream",
     "text": [
      "Slop of the linear Regression:  3.5374756199498467\n"
     ]
    }
   ],
   "source": [
    "import numpy as np\n",
    "\n",
    "x = np.array([3,8,9,13,3,6,11,21,1,16])\n",
    "y = np.array([30,57,64,72,36,43,59,90,20,83])\n",
    "\n",
    "xMean = np.mean(x)\n",
    "yMean = np.mean(y)\n",
    "\n",
    "xDev = x - xMean\n",
    "yDev = y - yMean\n",
    "\n",
    "numerator = np.sum(xDev * yDev)\n",
    "denominator = np.sum(xDev**2)\n",
    "\n",
    "w1 = numerator / denominator\n",
    "print(\"Slop of the linear Regression: \", w1)"
   ]
  },
  {
   "cell_type": "code",
   "execution_count": 3,
   "id": "4dad0ac6",
   "metadata": {},
   "outputs": [
    {
     "name": "stdout",
     "output_type": "stream",
     "text": [
      "23.208971858456394\n"
     ]
    }
   ],
   "source": [
    "w0 = yMean - (w1 * xMean)\n",
    "print(w0)"
   ]
  },
  {
   "cell_type": "code",
   "execution_count": 4,
   "id": "029edb11",
   "metadata": {},
   "outputs": [
    {
     "name": "stdout",
     "output_type": "stream",
     "text": [
      "58.58372805795486\n"
     ]
    }
   ],
   "source": [
    "x = 10\n",
    "y = w0 + w1 * x\n",
    "print(y)"
   ]
  },
  {
   "cell_type": "code",
   "execution_count": 5,
   "id": "f53ae271",
   "metadata": {},
   "outputs": [
    {
     "data": {
      "image/png": "[encoded data removed]",
      "text/plain": [
       "<Figure size 432x288 with 1 Axes>"
      ]
     },
     "metadata": {
      "needs_background": "light"
     },
     "output_type": "display_data"
    }
   ],
   "source": [
    "import matplotlib.pyplot as plt\n",
    "\n",
    "s = np.array([3,8,9,13,3,6,11,21,1,16])\n",
    "t = np.array([30,57,64,72,36,43,59,90,20,83])\n",
    "\n",
    "x = sorted(s)\n",
    "y = sorted(t)\n",
    "\n",
    "plt.plot(x, y)\n",
    "plt.xlabel(\"x axis\")\n",
    "plt.ylabel(\"y axis\")\n",
    "\n",
    "plt.show()"
   ]
  },
  {
   "cell_type": "code",
   "execution_count": null,
   "id": "af1a7f10",
   "metadata": {},
   "outputs": [],
   "source": []
  }
 ],
 "metadata": {
  "kernelspec": {
   "display_name": "Python 3",
   "language": "python",
   "name": "python3"
  },
  "language_info": {
   "codemirror_mode": {
    "name": "ipython",
    "version": 3
   },
   "file_extension": ".py",
   "mimetype": "text/x-python",
   "name": "python",
   "nbconvert_exporter": "python",
   "pygments_lexer": "ipython3",
   "version": "3.8.8"
  }
 },
 "nbformat": 4,
 "nbformat_minor": 5
}
