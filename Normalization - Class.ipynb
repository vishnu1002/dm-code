{
 "cells": [
  {
   "cell_type": "code",
   "execution_count": 1,
   "id": "14fb3e41-4001-489b-bfa7-55267b7f80e7",
   "metadata": {},
   "outputs": [
    {
     "name": "stdout",
     "output_type": "stream",
     "text": [
      "[12000, 23000, 46000, 98000]\n"
     ]
    }
   ],
   "source": [
    "import numpy as np\n",
    "import pandas as pd\n",
    "import statistics\n",
    "\n",
    "data = [12000, 23000, 46000, 98000]\n",
    "print(data)"
   ]
  },
  {
   "cell_type": "code",
   "execution_count": 7,
   "id": "40d43f25-8639-4275-841c-3c69f6bb7d1f",
   "metadata": {},
   "outputs": [
    {
     "name": "stdout",
     "output_type": "stream",
     "text": [
      "0.7162790697674418\n"
     ]
    }
   ],
   "source": [
    "# Min Max\n",
    "v = 73600\n",
    "min = 12000\n",
    "max = 98000\n",
    "\n",
    "minMax = (v - min)/(max-min)\n",
    "print(minMax)"
   ]
  },
  {
   "cell_type": "code",
   "execution_count": 8,
   "id": "43c7896f-c193-42f6-8b2b-c5b391d87b31",
   "metadata": {},
   "outputs": [
    {
     "name": "stdout",
     "output_type": "stream",
     "text": [
      "0.7548020928058492\n"
     ]
    }
   ],
   "source": [
    "# Z Score\n",
    "\n",
    "mean = statistics.mean(data)\n",
    "sd = statistics.stdev(data)\n",
    "\n",
    "zscore = (v - mean) / sd\n",
    "print(zscore)"
   ]
  },
  {
   "cell_type": "code",
   "execution_count": 10,
   "id": "47f69506-ede2-4e22-b771-84f8ad64588c",
   "metadata": {},
   "outputs": [
    {
     "name": "stdout",
     "output_type": "stream",
     "text": [
      "0.736\n"
     ]
    }
   ],
   "source": [
    "# Decimal Scalling\n",
    "\n",
    "ds = v/10**5\n",
    "print(ds)"
   ]
  },
  {
   "cell_type": "code",
   "execution_count": null,
   "id": "b5ce5b74-93f5-4408-9dd9-ea0bd1acf5f3",
   "metadata": {},
   "outputs": [],
   "source": []
  },
  {
   "cell_type": "code",
   "execution_count": 12,
   "id": "cde28190-609f-453e-9281-20af1486248b",
   "metadata": {},
   "outputs": [
    {
     "name": "stdout",
     "output_type": "stream",
     "text": [
      "[0.0, 0.12790697674418605, 0.3953488372093023, 1.0]\n"
     ]
    }
   ],
   "source": [
    "# Min Max for all values\n",
    "\n",
    "min = 12000\n",
    "max = 98000\n",
    "\n",
    "minmax = []\n",
    "for i in data:\n",
    "    result = (i-min) / (max-min)\n",
    "    minmax.append(result)\n",
    "print(minmax)"
   ]
  },
  {
   "cell_type": "code",
   "execution_count": 13,
   "id": "b2927f5a-9569-42b7-a546-81e6b074ce7b",
   "metadata": {},
   "outputs": [
    {
     "name": "stdout",
     "output_type": "stream",
     "text": [
      "[-0.8568377310014406, -0.5690449053215674, 0.03270373019089468, 1.3931789061321134]\n"
     ]
    }
   ],
   "source": [
    "# Z Score for all values\n",
    "\n",
    "zscore = []\n",
    "for i in data:\n",
    "    result = (i-mean)/sd\n",
    "    zscore.append(result)\n",
    "print(zscore)"
   ]
  },
  {
   "cell_type": "code",
   "execution_count": 14,
   "id": "97c25470-4f9d-4201-a036-927387f77c41",
   "metadata": {},
   "outputs": [
    {
     "name": "stdout",
     "output_type": "stream",
     "text": [
      "[0.12, 0.23, 0.46, 0.98]\n"
     ]
    }
   ],
   "source": [
    "# Decimal Scalling for all values\n",
    "\n",
    "ds = []\n",
    "for i in data:\n",
    "    result = (i/10**5)\n",
    "    ds.append(result)\n",
    "print(ds)"
   ]
  },
  {
   "cell_type": "code",
   "execution_count": null,
   "id": "a9f143b8-41e0-43f0-8872-92c4754774fb",
   "metadata": {},
   "outputs": [],
   "source": []
  }
 ],
 "metadata": {
  "kernelspec": {
   "display_name": "Python 3 (ipykernel)",
   "language": "python",
   "name": "python3"
  },
  "language_info": {
   "codemirror_mode": {
    "name": "ipython",
    "version": 3
   },
   "file_extension": ".py",
   "mimetype": "text/x-python",
   "name": "python",
   "nbconvert_exporter": "python",
   "pygments_lexer": "ipython3",
   "version": "3.11.7"
  }
 },
 "nbformat": 4,
 "nbformat_minor": 5
}
