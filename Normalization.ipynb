{
 "cells": [
  {
   "cell_type": "code",
   "execution_count": 15,
   "id": "6a414e4c",
   "metadata": {},
   "outputs": [
    {
     "name": "stdout",
     "output_type": "stream",
     "text": [
      "[200, 300, 400, 600, 1000]\n"
     ]
    }
   ],
   "source": [
    "import pandas as pd\n",
    "\n",
    "data = pd.read_csv(\"norm_data.csv\")\n",
    "data = data['data'].tolist()\n",
    "data.sort()\n",
    "print(data)"
   ]
  },
  {
   "cell_type": "code",
   "execution_count": 16,
   "id": "f454264a",
   "metadata": {},
   "outputs": [
    {
     "name": "stdout",
     "output_type": "stream",
     "text": [
      "MIN MAX:  0.375\n"
     ]
    }
   ],
   "source": [
    "# Min Max\n",
    "\n",
    "min = 200\n",
    "max = 1000\n",
    "v = 500\n",
    "\n",
    "min_max = (v-min) / (max-min)\n",
    "print(\"MIN MAX: \", min_max)"
   ]
  },
  {
   "cell_type": "code",
   "execution_count": 17,
   "id": "def665e3",
   "metadata": {},
   "outputs": [
    {
     "name": "stdout",
     "output_type": "stream",
     "text": [
      "Mean:  500.0\n",
      "SD:  316.22776601683796\n"
     ]
    }
   ],
   "source": [
    "# SD\n",
    "\n",
    "import statistics\n",
    "mean = sum(data) / len(data)\n",
    "print(\"Mean: \", mean)\n",
    "\n",
    "sd = statistics.stdev(data)\n",
    "print(\"SD: \", sd)"
   ]
  },
  {
   "cell_type": "code",
   "execution_count": 18,
   "id": "9dd8eefe",
   "metadata": {},
   "outputs": [
    {
     "name": "stdout",
     "output_type": "stream",
     "text": [
      "Z Score:  0.0\n"
     ]
    }
   ],
   "source": [
    "# Z Score:\n",
    "\n",
    "z = (v-mean) / sd\n",
    "print(\"Z Score: \", z)"
   ]
  },
  {
   "cell_type": "code",
   "execution_count": 19,
   "id": "235759b8",
   "metadata": {},
   "outputs": [
    {
     "name": "stdout",
     "output_type": "stream",
     "text": [
      "Decimal Scaling:  0.5\n"
     ]
    }
   ],
   "source": [
    "# Decimal Scaling:\n",
    "\n",
    "d = v / (10*10*10) #count no.of digits in v = 3; 10*10*10\n",
    "print(\"Decimal Scaling: \", d)"
   ]
  },
  {
   "cell_type": "code",
   "execution_count": 20,
   "id": "405a4dc4",
   "metadata": {},
   "outputs": [
    {
     "name": "stdout",
     "output_type": "stream",
     "text": [
      "MIN MAX:  [0.0, 0.125, 0.25, 0.5, 1.0]\n"
     ]
    }
   ],
   "source": [
    "# Normalize all Values:\n",
    "\n",
    "min = 200\n",
    "max = 1000\n",
    "\n",
    "norm = []\n",
    "\n",
    "for val in data:\n",
    "    b = (val - min) / (max - min)\n",
    "    norm.append(b)\n",
    "    \n",
    "print(\"MIN MAX: \", norm)"
   ]
  },
  {
   "cell_type": "code",
   "execution_count": 21,
   "id": "55593650",
   "metadata": {},
   "outputs": [
    {
     "name": "stdout",
     "output_type": "stream",
     "text": [
      "Z Score;  [-0.9486832980505138, -0.6324555320336758, -0.3162277660168379, 0.3162277660168379, 1.5811388300841895]\n"
     ]
    }
   ],
   "source": [
    "# Z Score all Values:\n",
    "\n",
    "z_score = []\n",
    "\n",
    "for val in data:\n",
    "    zs = (val - mean)/ sd\n",
    "    z_score.append(zs)\n",
    "\n",
    "print(\"Z Score; \", z_score)"
   ]
  },
  {
   "cell_type": "code",
   "execution_count": 22,
   "id": "1905ab42",
   "metadata": {},
   "outputs": [
    {
     "name": "stdout",
     "output_type": "stream",
     "text": [
      "Decimal Scaling  [0.2, 0.3, 0.4, 0.6, 1.0]\n"
     ]
    }
   ],
   "source": [
    "# Decimal Scaling all Values\n",
    "\n",
    "ds = []\n",
    "\n",
    "for val in data:\n",
    "    d = val / (10*10*10)\n",
    "    ds.append(d)\n",
    "    \n",
    "print(\"Decimal Scaling \", ds)"
   ]
  },
  {
   "cell_type": "code",
   "execution_count": null,
   "id": "fcc440b3-7c3f-4035-ba5b-01445734ad66",
   "metadata": {},
   "outputs": [],
   "source": []
  }
 ],
 "metadata": {
  "kernelspec": {
   "display_name": "Python 3 (ipykernel)",
   "language": "python",
   "name": "python3"
  },
  "language_info": {
   "codemirror_mode": {
    "name": "ipython",
    "version": 3
   },
   "file_extension": ".py",
   "mimetype": "text/x-python",
   "name": "python",
   "nbconvert_exporter": "python",
   "pygments_lexer": "ipython3",
   "version": "3.11.7"
  }
 },
 "nbformat": 4,
 "nbformat_minor": 5
}
