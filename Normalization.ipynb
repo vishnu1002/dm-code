{
 "cells": [
  {
   "cell_type": "code",
   "execution_count": 22,
   "id": "6a414e4c",
   "metadata": {},
   "outputs": [
    {
     "name": "stdout",
     "output_type": "stream",
     "text": [
      "   data\n",
      "0   200\n",
      "1   300\n",
      "2   400\n",
      "3   600\n",
      "4  1000\n"
     ]
    }
   ],
   "source": [
    "import pandas as pd\n",
    "\n",
    "data = pd.read_csv(\"norm_data.csv\")\n",
    "print(data)"
   ]
  },
  {
   "cell_type": "code",
   "execution_count": 23,
   "id": "dd8c495d",
   "metadata": {},
   "outputs": [
    {
     "name": "stdout",
     "output_type": "stream",
     "text": [
      "[[200], [300], [400], [600], [1000]]\n"
     ]
    }
   ],
   "source": [
    "t = data.values.tolist()\n",
    "print(t)"
   ]
  },
  {
   "cell_type": "code",
   "execution_count": 24,
   "id": "5a5038dd",
   "metadata": {},
   "outputs": [
    {
     "ename": "TypeError",
     "evalue": "'list' object is not callable",
     "output_type": "error",
     "traceback": [
      "\u001b[1;31m---------------------------------------------------------------------------\u001b[0m",
      "\u001b[1;31mTypeError\u001b[0m                                 Traceback (most recent call last)",
      "\u001b[1;32m<ipython-input-24-9434c1bbf9af>\u001b[0m in \u001b[0;36m<module>\u001b[1;34m\u001b[0m\n\u001b[0;32m      3\u001b[0m \u001b[0mflat_list\u001b[0m \u001b[1;33m=\u001b[0m \u001b[0mlist\u001b[0m\u001b[1;33m(\u001b[0m\u001b[0mitertools\u001b[0m\u001b[1;33m.\u001b[0m\u001b[0mchain\u001b[0m\u001b[1;33m(\u001b[0m\u001b[1;33m*\u001b[0m\u001b[0mt\u001b[0m\u001b[1;33m)\u001b[0m\u001b[1;33m)\u001b[0m\u001b[1;33m\u001b[0m\u001b[1;33m\u001b[0m\u001b[0m\n\u001b[0;32m      4\u001b[0m \u001b[1;33m\u001b[0m\u001b[0m\n\u001b[1;32m----> 5\u001b[1;33m \u001b[0mt\u001b[0m \u001b[1;33m=\u001b[0m \u001b[0msorted\u001b[0m\u001b[1;33m(\u001b[0m\u001b[0mflat_list\u001b[0m\u001b[1;33m)\u001b[0m\u001b[1;33m\u001b[0m\u001b[1;33m\u001b[0m\u001b[0m\n\u001b[0m\u001b[0;32m      6\u001b[0m \u001b[0mprint\u001b[0m\u001b[1;33m(\u001b[0m\u001b[0mt\u001b[0m\u001b[1;33m)\u001b[0m\u001b[1;33m\u001b[0m\u001b[1;33m\u001b[0m\u001b[0m\n",
      "\u001b[1;31mTypeError\u001b[0m: 'list' object is not callable"
     ]
    }
   ],
   "source": [
    "import itertools\n",
    "\n",
    "flat_list = list(itertools.chain(*t))\n",
    "\n",
    "t = sorted(flat_list)\n",
    "print(t)\n"
   ]
  },
  {
   "cell_type": "code",
   "execution_count": 26,
   "id": "f454264a",
   "metadata": {},
   "outputs": [
    {
     "name": "stdout",
     "output_type": "stream",
     "text": [
      "MIN MAX:  0.375\n"
     ]
    }
   ],
   "source": [
    "# Min Max\n",
    "\n",
    "min = 200\n",
    "max = 1000\n",
    "v = 500\n",
    "\n",
    "min_max = (v-min) / (max-min)\n",
    "print(\"MIN MAX: \", min_max)"
   ]
  },
  {
   "cell_type": "code",
   "execution_count": 30,
   "id": "def665e3",
   "metadata": {},
   "outputs": [
    {
     "name": "stdout",
     "output_type": "stream",
     "text": [
      "Mean:  500.0\n",
      "SD:  316.22776601683796\n"
     ]
    }
   ],
   "source": [
    "# SD\n",
    "\n",
    "import statistics\n",
    "mean = sum(flat_list) / len(flat_list)\n",
    "print(\"Mean: \", mean)\n",
    "\n",
    "sd = statistics.stdev(flat_list)\n",
    "print(\"SD: \", sd)"
   ]
  },
  {
   "cell_type": "code",
   "execution_count": 31,
   "id": "9dd8eefe",
   "metadata": {},
   "outputs": [
    {
     "name": "stdout",
     "output_type": "stream",
     "text": [
      "Z Score:  0.0\n"
     ]
    }
   ],
   "source": [
    "# Z Score:\n",
    "\n",
    "z = (v-mean) / sd\n",
    "print(\"Z Score: \", z)"
   ]
  },
  {
   "cell_type": "code",
   "execution_count": 33,
   "id": "235759b8",
   "metadata": {},
   "outputs": [
    {
     "name": "stdout",
     "output_type": "stream",
     "text": [
      "Decimal Scaling:  0.5\n"
     ]
    }
   ],
   "source": [
    "# Decimal Scaling:\n",
    "\n",
    "d = v / (10*10*10) #count no.of digits in v = 3; 10*10*10\n",
    "print(\"Decimal Scaling: \", d)\n",
    "\n"
   ]
  },
  {
   "cell_type": "code",
   "execution_count": 40,
   "id": "405a4dc4",
   "metadata": {},
   "outputs": [
    {
     "name": "stdout",
     "output_type": "stream",
     "text": [
      "MIN MAX:  [0.0, 0.125, 0.25, 0.5, 1.0]\n"
     ]
    }
   ],
   "source": [
    "# Normalize all Values:\n",
    "\n",
    "min = 200\n",
    "max = 1000\n",
    "\n",
    "norm = []\n",
    "\n",
    "for val in flat_list:\n",
    "    b = (val - min) / (max - min)\n",
    "    norm.append(b)\n",
    "    \n",
    "print(\"MIN MAX: \", norm)"
   ]
  },
  {
   "cell_type": "code",
   "execution_count": 41,
   "id": "55593650",
   "metadata": {},
   "outputs": [
    {
     "name": "stdout",
     "output_type": "stream",
     "text": [
      "Z Score;  [-0.9486832980505138, -0.6324555320336758, -0.3162277660168379, 0.3162277660168379, 1.5811388300841895]\n"
     ]
    }
   ],
   "source": [
    "# Z Score all Values:\n",
    "\n",
    "z_score = []\n",
    "\n",
    "for val in flat_list:\n",
    "    zs = (val - mean)/ sd\n",
    "    z_score.append(zs)\n",
    "\n",
    "print(\"Z Score; \", z_score)"
   ]
  },
  {
   "cell_type": "code",
   "execution_count": 43,
   "id": "1905ab42",
   "metadata": {},
   "outputs": [
    {
     "name": "stdout",
     "output_type": "stream",
     "text": [
      "Decimal Scaling  [0.2, 0.3, 0.4, 0.6, 1.0]\n"
     ]
    }
   ],
   "source": [
    "# Decimal Scaling all Values\n",
    "\n",
    "ds = []\n",
    "\n",
    "for val in flat_list:\n",
    "    d = val / (10*10*10)\n",
    "    ds.append(d)\n",
    "    \n",
    "print(\"Decimal Scaling \", ds)"
   ]
  },
  {
   "cell_type": "code",
   "execution_count": null,
   "id": "4199290b",
   "metadata": {},
   "outputs": [],
   "source": []
  }
 ],
 "metadata": {
  "kernelspec": {
   "display_name": "Python 3",
   "language": "python",
   "name": "python3"
  },
  "language_info": {
   "codemirror_mode": {
    "name": "ipython",
    "version": 3
   },
   "file_extension": ".py",
   "mimetype": "text/x-python",
   "name": "python",
   "nbconvert_exporter": "python",
   "pygments_lexer": "ipython3",
   "version": "3.8.8"
  }
 },
 "nbformat": 4,
 "nbformat_minor": 5
}
