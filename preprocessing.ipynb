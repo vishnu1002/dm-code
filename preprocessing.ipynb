{
 "cells": [
  {
   "cell_type": "code",
   "execution_count": 2,
   "id": "911b8856-6b31-4db7-b8d7-1975ab8f09e6",
   "metadata": {},
   "outputs": [],
   "source": [
    "import numpy as np\n",
    "import pandas as pd\n",
    "import statistics"
   ]
  },
  {
   "cell_type": "code",
   "execution_count": 18,
   "id": "d99f00bf-41c6-4d48-b22c-4475d1a0a6b3",
   "metadata": {},
   "outputs": [
    {
     "name": "stdout",
     "output_type": "stream",
     "text": [
      "[13, 15, 16, 16, 19, 20, 20, 21, 22, 22, 22, 25, 25, 25, 25, 30, 33, 33, 35, 35, 35, 36, 40, 45, 46, 52, 70]\n"
     ]
    }
   ],
   "source": [
    "data = pd.read_csv(\"age_data.csv\")\n",
    "data = data['age'].tolist()\n",
    "data.sort()\n",
    "print(data)"
   ]
  },
  {
   "cell_type": "code",
   "execution_count": 47,
   "id": "65002fba-c88c-4686-b222-a09b3cd5e06e",
   "metadata": {},
   "outputs": [
    {
     "name": "stdout",
     "output_type": "stream",
     "text": [
      "Mean:  29.48148148148148\n"
     ]
    }
   ],
   "source": [
    "# Mean\n",
    "\n",
    "mean = statistics.mean(data)\n",
    "print(\"Mean: \", mean)"
   ]
  },
  {
   "cell_type": "code",
   "execution_count": 48,
   "id": "6ad80059-6277-442f-a6ac-2bb1d4c00f8f",
   "metadata": {},
   "outputs": [
    {
     "name": "stdout",
     "output_type": "stream",
     "text": [
      "Median:  25\n"
     ]
    }
   ],
   "source": [
    "# Median: \n",
    "\n",
    "median = statistics.median(data)\n",
    "print(\"Median: \", median)"
   ]
  },
  {
   "cell_type": "code",
   "execution_count": 23,
   "id": "b93db85f-5b54-484a-a3eb-54f40daec045",
   "metadata": {},
   "outputs": [
    {
     "name": "stdout",
     "output_type": "stream",
     "text": [
      "Mode:  25\n"
     ]
    }
   ],
   "source": [
    "# Mode\n",
    "\n",
    "mode = statistics.mode(data)\n",
    "print(\"Mode: \", mode)"
   ]
  },
  {
   "cell_type": "code",
   "execution_count": 46,
   "id": "dadfa2b8-fd0b-4918-b562-0bc7505def8d",
   "metadata": {},
   "outputs": [
    {
     "data": {
      "image/png": "[encoded data removed]",
      "text/plain": [
       "<Figure size 640x480 with 1 Axes>"
      ]
     },
     "metadata": {},
     "output_type": "display_data"
    }
   ],
   "source": [
    "# Quartiles Plotting \n",
    "\n",
    "import matplotlib.pyplot as plt\n",
    "plt.boxplot(data)\n",
    "plt.show()"
   ]
  },
  {
   "cell_type": "code",
   "execution_count": 52,
   "id": "befcce69-942f-4047-9f83-42b595a84d5a",
   "metadata": {},
   "outputs": [
    {
     "name": "stdout",
     "output_type": "stream",
     "text": [
      "Mid Range:  41.5\n",
      "Range:  57\n"
     ]
    }
   ],
   "source": [
    "# Mid Range:\n",
    "midRange = (min(data) + max(data))/2\n",
    "print(\"Mid Range: \", midRange)\n",
    "\n",
    "# Range:\n",
    "range = (max(data) - min(data))\n",
    "print(\"Range: \", range)"
   ]
  },
  {
   "cell_type": "code",
   "execution_count": 59,
   "id": "6dc39ade-4415-4675-b69b-13bcf1ea6f88",
   "metadata": {},
   "outputs": [
    {
     "name": "stdout",
     "output_type": "stream",
     "text": [
      "Quartile 1: 20.5\n",
      "Quartile 2: 25.0\n",
      "Quartile 3: 35.0\n"
     ]
    }
   ],
   "source": [
    "# Q1 Q2 Q3:\n",
    "\n",
    "q1 = np.percentile(data, 25)\n",
    "q2 = np.percentile(data, 50)\n",
    "q3 = np.percentile(data, 75)\n",
    "\n",
    "print(\"Quartile 1:\", q1)\n",
    "print(\"Quartile 2:\", q2)\n",
    "print(\"Quartile 3:\", q3)"
   ]
  },
  {
   "cell_type": "code",
   "execution_count": 63,
   "id": "8eae8a9c-a17e-48be-8a61-cee6a2829b83",
   "metadata": {},
   "outputs": [
    {
     "name": "stdout",
     "output_type": "stream",
     "text": [
      "Standard Deviation:  12.989257011884773\n",
      "Variance:  168.72079772079772\n"
     ]
    }
   ],
   "source": [
    "# Standard Deviation:\n",
    "\n",
    "sd = statistics.stdev(data)\n",
    "variance = statistics.variance(data)\n",
    "\n",
    "print(\"Standard Deviation: \", sd)\n",
    "print(\"Variance: \", variance)"
   ]
  },
  {
   "cell_type": "code",
   "execution_count": null,
   "id": "7c8c452f-4002-41b9-bc24-b820af95679d",
   "metadata": {},
   "outputs": [],
   "source": []
  }
 ],
 "metadata": {
  "kernelspec": {
   "display_name": "Python 3 (ipykernel)",
   "language": "python",
   "name": "python3"
  },
  "language_info": {
   "codemirror_mode": {
    "name": "ipython",
    "version": 3
   },
   "file_extension": ".py",
   "mimetype": "text/x-python",
   "name": "python",
   "nbconvert_exporter": "python",
   "pygments_lexer": "ipython3",
   "version": "3.12.1"
  }
 },
 "nbformat": 4,
 "nbformat_minor": 5
}
