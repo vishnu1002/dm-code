{
 "cells": [
  {
   "cell_type": "code",
   "execution_count": 11,
   "id": "dd7e37bd",
   "metadata": {},
   "outputs": [
    {
     "name": "stdout",
     "output_type": "stream",
     "text": [
      "    height  weight  id\n",
      "0      185      72   1\n",
      "1      170      56   2\n",
      "2      168      60   3\n",
      "3      179      68   4\n",
      "4      182      72   5\n",
      "5      188      77   6\n",
      "6      180      71   7\n",
      "7      180      70   8\n",
      "8      183      84   9\n",
      "9      180      88  10\n",
      "10     180      67  11\n",
      "11     177      76  12\n"
     ]
    }
   ],
   "source": [
    "import pandas as pd\n",
    "\n",
    "data = pd.read_csv(\"kmeans.csv\")\n",
    "print(data)"
   ]
  },
  {
   "cell_type": "code",
   "execution_count": 12,
   "id": "724b9ae6",
   "metadata": {},
   "outputs": [
    {
     "data": {
      "text/plain": [
       "([72, 1], [56, 2])"
      ]
     },
     "execution_count": 12,
     "metadata": {},
     "output_type": "execute_result"
    }
   ],
   "source": [
    "# Centroids\n",
    "\n",
    "c1 = list(data.iloc[0])[1:]\n",
    "c2 = list(data.iloc[1])[1:]\n",
    "\n",
    "c1,c2"
   ]
  },
  {
   "cell_type": "code",
   "execution_count": 13,
   "id": "3a6186f7",
   "metadata": {},
   "outputs": [
    {
     "data": {
      "text/plain": [
       "<matplotlib.collections.PathCollection at 0x20790b10a90>"
      ]
     },
     "execution_count": 13,
     "metadata": {},
     "output_type": "execute_result"
    },
    {
     "data": {
      "image/png": "[encoded data removed]",
      "text/plain": [
       "<Figure size 432x288 with 1 Axes>"
      ]
     },
     "metadata": {
      "needs_background": "light"
     },
     "output_type": "display_data"
    }
   ],
   "source": [
    "x = []\n",
    "y = []\n",
    "\n",
    "for i, j in zip(data['height'], data['weight']):\n",
    "    x.append(i)\n",
    "    y.append(j)\n",
    "\n",
    "import matplotlib.pyplot as plt\n",
    "plt.xlabel('Height')\n",
    "plt.ylabel('Weight')\n",
    "plt.scatter(x,y)"
   ]
  },
  {
   "cell_type": "code",
   "execution_count": 21,
   "id": "069c824b",
   "metadata": {},
   "outputs": [
    {
     "name": "stdout",
     "output_type": "stream",
     "text": [
      "[1, 2, 3, 4, 5, 6, 7, 8, 9, 10, 11, 12] []\n"
     ]
    }
   ],
   "source": [
    "from scipy.spatial import distance\n",
    "\n",
    "set1 = []\n",
    "set2 = []\n",
    "center = 0\n",
    "\n",
    "for i, j in zip(data['height'], data['weight']):\n",
    "    center += 1\n",
    "    c1_distance = distance.euclidean((i, j), c1)\n",
    "    c2_distance = distance.euclidean((i, j), c2)\n",
    "    \n",
    "    if(c1_distance <= c2_distance):\n",
    "        c1[0] = (c1[0] + i)/2\n",
    "        c1[1] = (c1[1] + j)/2\n",
    "        set1.append(center)\n",
    "    else:\n",
    "        c2[0] = (c2[0] + i)/2\n",
    "        c2[1] = (c2[1] + j)/2\n",
    "        set2.append(center)\n",
    "\n",
    "print(set1, set2)"
   ]
  },
  {
   "cell_type": "code",
   "execution_count": 22,
   "id": "cb6cf6d1",
   "metadata": {},
   "outputs": [
    {
     "data": {
      "text/plain": [
       "<matplotlib.legend.Legend at 0x20791d93e80>"
      ]
     },
     "execution_count": 22,
     "metadata": {},
     "output_type": "execute_result"
    },
    {
     "data": {
      "image/png": "[encoded data removed]",
      "text/plain": [
       "<Figure size 432x288 with 1 Axes>"
      ]
     },
     "metadata": {
      "needs_background": "light"
     },
     "output_type": "display_data"
    }
   ],
   "source": [
    "plt.xlabel(\"Height\")\n",
    "plt.ylabel(\"Weight\")\n",
    "\n",
    "x = []\n",
    "y = []\n",
    "\n",
    "for indx in set1:\n",
    "    point = data[data['id'] == indx]\n",
    "    x += list(point['height'])\n",
    "    y += list(point['weight'])\n",
    "    \n",
    "plt.scatter(x, y, label = 'Cluster 1', s=72)\n",
    "\n",
    "x = []\n",
    "y = []\n",
    "\n",
    "for indx in set2:\n",
    "    point = data[data['id'] == indx]\n",
    "    x += list(point['height'])\n",
    "    y += list(point['weight'])\n",
    "\n",
    "plt.scatter(x, y, label = 'Cluster 2', s=72)\n",
    "\n",
    "plt.scatter([c1[0], c2[0]], [c1[1], c2[1]], label='Centroid', c='red', )\n",
    "plt.legend()"
   ]
  },
  {
   "cell_type": "code",
   "execution_count": null,
   "id": "64b9d603",
   "metadata": {},
   "outputs": [],
   "source": []
  }
 ],
 "metadata": {
  "kernelspec": {
   "display_name": "Python 3",
   "language": "python",
   "name": "python3"
  },
  "language_info": {
   "codemirror_mode": {
    "name": "ipython",
    "version": 3
   },
   "file_extension": ".py",
   "mimetype": "text/x-python",
   "name": "python",
   "nbconvert_exporter": "python",
   "pygments_lexer": "ipython3",
   "version": "3.8.8"
  }
 },
 "nbformat": 4,
 "nbformat_minor": 5
}
