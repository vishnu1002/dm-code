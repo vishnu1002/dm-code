{
 "cells": [
  {
   "cell_type": "code",
   "execution_count": 48,
   "id": "3428ed3c",
   "metadata": {},
   "outputs": [
    {
     "name": "stdout",
     "output_type": "stream",
     "text": [
      "    id     age  income student    credit  class\n",
      "0    1   youth    high      no       fair    no\n",
      "1    2   youth    high      no  excellent    no\n",
      "2    3  middle    high      no       fair   yes\n",
      "3    4  senior  medium      no       fair   yes\n",
      "4    5  senior     low     yes       fair   yes\n",
      "5    6  senior     low     yes  excellent    no\n",
      "6    7  middle     low     yes  excellent   yes\n",
      "7    8   youth  medium      no       fair    no\n",
      "8    9   youth     low     yes       fair   yes\n",
      "9   10  senior  medium     yes       fair   yes\n",
      "10  11   youth  medium     yes  excellent   yes\n",
      "11  12  middle  medium      no  excellent   yes\n",
      "12  13  middle    high     yes       fair   yes\n",
      "13  14  senior  medium      no  excellent    no\n"
     ]
    }
   ],
   "source": [
    "import pandas as pd\n",
    "import numpy as np\n",
    "import statistics\n",
    "\n",
    "data = pd.read_csv(\"id3.csv\")\n",
    "print(data)"
   ]
  },
  {
   "cell_type": "code",
   "execution_count": 49,
   "id": "ca4e067f",
   "metadata": {},
   "outputs": [
    {
     "name": "stdout",
     "output_type": "stream",
     "text": [
      "9 5\n"
     ]
    }
   ],
   "source": [
    "count = len(data)\n",
    "\n",
    "yes = list(data['class']).count('yes')\n",
    "no = list(data['class']).count('no')\n",
    "print(yes, no)"
   ]
  },
  {
   "cell_type": "code",
   "execution_count": 50,
   "id": "428c2b68",
   "metadata": {},
   "outputs": [
    {
     "name": "stdout",
     "output_type": "stream",
     "text": [
      "0.9402859586706309\n"
     ]
    }
   ],
   "source": [
    "from math import log\n",
    "\n",
    "info_d = -(yes/count * log(yes/count, 2)) - (no/count * log(no/count, 2))\n",
    "print(info_d)"
   ]
  },
  {
   "cell_type": "code",
   "execution_count": 51,
   "id": "a54ebc02",
   "metadata": {},
   "outputs": [
    {
     "name": "stdout",
     "output_type": "stream",
     "text": [
      "5 4 5\n"
     ]
    }
   ],
   "source": [
    "youth = list(data['age']).count('youth')\n",
    "middle = list(data['age']).count('middle')\n",
    "senior = list(data['age']).count('senior')\n",
    "print(youth, middle, senior)"
   ]
  },
  {
   "cell_type": "code",
   "execution_count": 52,
   "id": "f41c0e36",
   "metadata": {},
   "outputs": [],
   "source": [
    "def gain(info_class, info_features):\n",
    "    return (info_class - info_features)"
   ]
  },
  {
   "cell_type": "code",
   "execution_count": 53,
   "id": "f721944d",
   "metadata": {},
   "outputs": [],
   "source": [
    "def infoD(data, feature):\n",
    "    info_d = 0\n",
    "    total = len(data)\n",
    "    possible_states = set(list(data[feature]))\n",
    "    \n",
    "    for state in possible_states:\n",
    "        state_count = list(data[feature]).count(state)\n",
    "        info_d += -(state_count / total * log(state_count/total, 2))\n",
    "    \n",
    "    return info_d, state_count\n"
   ]
  },
  {
   "cell_type": "code",
   "execution_count": 54,
   "id": "a682807c",
   "metadata": {},
   "outputs": [
    {
     "name": "stdout",
     "output_type": "stream",
     "text": [
      "0.9402859586706309\n"
     ]
    }
   ],
   "source": [
    "info_class = infoD(data, 'class')\n",
    "print(info_class)"
   ]
  },
  {
   "cell_type": "code",
   "execution_count": 66,
   "id": "9cf76754",
   "metadata": {},
   "outputs": [
    {
     "ename": "IndentationError",
     "evalue": "unexpected indent (<ipython-input-66-890d67eb3dae>, line 5)",
     "output_type": "error",
     "traceback": [
      "\u001b[1;36m  File \u001b[1;32m\"<ipython-input-66-890d67eb3dae>\"\u001b[1;36m, line \u001b[1;32m5\u001b[0m\n\u001b[1;33m    if(state_count != 0):\u001b[0m\n\u001b[1;37m    ^\u001b[0m\n\u001b[1;31mIndentationError\u001b[0m\u001b[1;31m:\u001b[0m unexpected indent\n"
     ]
    }
   ],
   "source": [
    "def info_feature(data, feature):\n",
    "    info_feature = 0\n",
    "    total = len(data)\n",
    "    \n",
    "    if(state_count != 0):\n",
    "        info_feature += (feature_count / total) * -(state_count/feature_count * log((state_count/feature_count), 2))\n",
    "        \n",
    "    return info_feature"
   ]
  },
  {
   "cell_type": "code",
   "execution_count": null,
   "id": "efcdb48d",
   "metadata": {},
   "outputs": [],
   "source": []
  },
  {
   "cell_type": "code",
   "execution_count": 62,
   "id": "66ad9b10",
   "metadata": {},
   "outputs": [
    {
     "ename": "NameError",
     "evalue": "name 'state_count' is not defined",
     "output_type": "error",
     "traceback": [
      "\u001b[1;31m---------------------------------------------------------------------------\u001b[0m",
      "\u001b[1;31mNameError\u001b[0m                                 Traceback (most recent call last)",
      "\u001b[1;32m<ipython-input-62-d2cef80d1e7e>\u001b[0m in \u001b[0;36m<module>\u001b[1;34m\u001b[0m\n\u001b[1;32m----> 1\u001b[1;33m \u001b[0mgain_income\u001b[0m \u001b[1;33m=\u001b[0m \u001b[0mgain\u001b[0m\u001b[1;33m(\u001b[0m\u001b[0minfo_class\u001b[0m\u001b[1;33m,\u001b[0m \u001b[0minfo_feature\u001b[0m\u001b[1;33m(\u001b[0m\u001b[0mdata\u001b[0m\u001b[1;33m,\u001b[0m \u001b[1;34m'income'\u001b[0m\u001b[1;33m)\u001b[0m\u001b[1;33m)\u001b[0m\u001b[1;33m\u001b[0m\u001b[1;33m\u001b[0m\u001b[0m\n\u001b[0m\u001b[0;32m      2\u001b[0m \u001b[0mgain_age\u001b[0m \u001b[1;33m=\u001b[0m \u001b[0mgain\u001b[0m\u001b[1;33m(\u001b[0m\u001b[0minfo_class\u001b[0m\u001b[1;33m,\u001b[0m \u001b[0minfo_feature\u001b[0m\u001b[1;33m(\u001b[0m\u001b[0mdata\u001b[0m\u001b[1;33m,\u001b[0m \u001b[1;34m'age'\u001b[0m\u001b[1;33m)\u001b[0m\u001b[1;33m)\u001b[0m\u001b[1;33m\u001b[0m\u001b[1;33m\u001b[0m\u001b[0m\n\u001b[0;32m      3\u001b[0m \u001b[0mgain_student\u001b[0m \u001b[1;33m=\u001b[0m \u001b[0mgain\u001b[0m\u001b[1;33m(\u001b[0m\u001b[0minfo_class\u001b[0m\u001b[1;33m,\u001b[0m \u001b[0minfo_feature\u001b[0m\u001b[1;33m(\u001b[0m\u001b[0mdata\u001b[0m\u001b[1;33m,\u001b[0m \u001b[1;34m'student'\u001b[0m\u001b[1;33m)\u001b[0m\u001b[1;33m)\u001b[0m\u001b[1;33m\u001b[0m\u001b[1;33m\u001b[0m\u001b[0m\n\u001b[0;32m      4\u001b[0m \u001b[0mgain_credit\u001b[0m \u001b[1;33m=\u001b[0m \u001b[0mgain\u001b[0m\u001b[1;33m(\u001b[0m\u001b[0minfo_class\u001b[0m\u001b[1;33m,\u001b[0m \u001b[0minfo_feature\u001b[0m\u001b[1;33m(\u001b[0m\u001b[0mdata\u001b[0m\u001b[1;33m,\u001b[0m \u001b[1;34m'credit'\u001b[0m\u001b[1;33m)\u001b[0m\u001b[1;33m)\u001b[0m\u001b[1;33m\u001b[0m\u001b[1;33m\u001b[0m\u001b[0m\n\u001b[0;32m      5\u001b[0m \u001b[1;33m\u001b[0m\u001b[0m\n",
      "\u001b[1;32m<ipython-input-61-8b19ece0c714>\u001b[0m in \u001b[0;36minfo_feature\u001b[1;34m(data, feature)\u001b[0m\n\u001b[0;32m      3\u001b[0m     \u001b[0mtotal\u001b[0m \u001b[1;33m=\u001b[0m \u001b[0mlen\u001b[0m\u001b[1;33m(\u001b[0m\u001b[0mdata\u001b[0m\u001b[1;33m)\u001b[0m\u001b[1;33m\u001b[0m\u001b[1;33m\u001b[0m\u001b[0m\n\u001b[0;32m      4\u001b[0m \u001b[1;33m\u001b[0m\u001b[0m\n\u001b[1;32m----> 5\u001b[1;33m     \u001b[1;32mif\u001b[0m\u001b[1;33m(\u001b[0m\u001b[0mstate_count\u001b[0m \u001b[1;33m!=\u001b[0m \u001b[1;36m0\u001b[0m\u001b[1;33m)\u001b[0m\u001b[1;33m:\u001b[0m\u001b[1;33m\u001b[0m\u001b[1;33m\u001b[0m\u001b[0m\n\u001b[0m\u001b[0;32m      6\u001b[0m         \u001b[0minfo_feature\u001b[0m \u001b[1;33m+=\u001b[0m \u001b[1;33m(\u001b[0m\u001b[0mfeature_count\u001b[0m \u001b[1;33m/\u001b[0m \u001b[0mtotal\u001b[0m\u001b[1;33m)\u001b[0m \u001b[1;33m*\u001b[0m \u001b[1;33m-\u001b[0m\u001b[1;33m(\u001b[0m\u001b[0mstate_count\u001b[0m\u001b[1;33m/\u001b[0m\u001b[0mfeature_count\u001b[0m \u001b[1;33m*\u001b[0m \u001b[0mlog\u001b[0m\u001b[1;33m(\u001b[0m\u001b[1;33m(\u001b[0m\u001b[0mstate_count\u001b[0m\u001b[1;33m/\u001b[0m\u001b[0mfeature_count\u001b[0m\u001b[1;33m)\u001b[0m\u001b[1;33m,\u001b[0m \u001b[1;36m2\u001b[0m\u001b[1;33m)\u001b[0m\u001b[1;33m)\u001b[0m\u001b[1;33m\u001b[0m\u001b[1;33m\u001b[0m\u001b[0m\n\u001b[0;32m      7\u001b[0m \u001b[1;33m\u001b[0m\u001b[0m\n",
      "\u001b[1;31mNameError\u001b[0m: name 'state_count' is not defined"
     ]
    }
   ],
   "source": [
    "gain_income  = gain(info_class, info_feature(data, 'income'))\n",
    "gain_age     = gain(info_class, info_feature(data, 'age'))\n",
    "gain_student = gain(info_class, info_feature(data, 'student'))\n",
    "gain_credit  = gain(info_class, info_feature(data, 'credit'))\n",
    "\n",
    "gain = {'income': gain_income, 'student': gain_student, 'credit': gain_credit, 'age': gain_age}\n",
    "\n",
    "gain = pd.DataFrame(gain.items(), columns = ['feature', 'gain'])\n",
    "\n",
    "print(\"Information Gain: \")\n",
    "print(\"Income Gain: \", gain_income)\n",
    "print(\"Age Gain: \", gain_age)\n",
    "print(\"Student Gain: \", gain_student)\n",
    "print(\"Credit Gain: \", gain_credit)"
   ]
  },
  {
   "cell_type": "code",
   "execution_count": null,
   "id": "cb94ecbb",
   "metadata": {},
   "outputs": [],
   "source": [
    "root = gain.loc[gain['gain'] == max(gain['gain'])]\n",
    "root_feature = root['feature'].tolist()[0]\n",
    "print(\"Root Node:\", root_feature)"
   ]
  },
  {
   "cell_type": "code",
   "execution_count": null,
   "id": "c88ab8e3",
   "metadata": {},
   "outputs": [],
   "source": []
  }
 ],
 "metadata": {
  "kernelspec": {
   "display_name": "Python 3",
   "language": "python",
   "name": "python3"
  },
  "language_info": {
   "codemirror_mode": {
    "name": "ipython",
    "version": 3
   },
   "file_extension": ".py",
   "mimetype": "text/x-python",
   "name": "python",
   "nbconvert_exporter": "python",
   "pygments_lexer": "ipython3",
   "version": "3.8.8"
  }
 },
 "nbformat": 4,
 "nbformat_minor": 5
}
