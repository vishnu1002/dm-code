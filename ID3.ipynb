{
 "cells": [
  {
   "cell_type": "code",
   "execution_count": 1,
   "id": "3428ed3c",
   "metadata": {},
   "outputs": [
    {
     "name": "stdout",
     "output_type": "stream",
     "text": [
      "    id     age  income student     credit class\n",
      "0    1   youth    high      no       fair    no\n",
      "1    2   youth    high      no  excellent    no\n",
      "2    3  middle    high      no       fair   yes\n",
      "3    4  senior  medium      no       fair   yes\n",
      "4    5  senior     low     yes       fair   yes\n",
      "5    6  senior     low     yes  excellent    no\n",
      "6    7  middle     low     yes  excellent   yes\n",
      "7    8   youth  medium      no       fair    no\n",
      "8    9   youth     low     yes       fair   yes\n",
      "9   10  senior  medium     yes       fair   yes\n",
      "10  11   youth  medium     yes  excellent   yes\n",
      "11  12  middle  medium      no  excellent   yes\n",
      "12  13  middle    high     yes       fair   yes\n",
      "13  14  senior  medium      no  excellent    no\n"
     ]
    }
   ],
   "source": [
    "import pandas as pd\n",
    "import numpy as np\n",
    "import statistics\n",
    "\n",
    "data = pd.read_csv(\"id3.csv\")\n",
    "print(data)"
   ]
  },
  {
   "cell_type": "code",
   "execution_count": 2,
   "id": "ca4e067f",
   "metadata": {},
   "outputs": [
    {
     "name": "stdout",
     "output_type": "stream",
     "text": [
      "9 5\n"
     ]
    }
   ],
   "source": [
    "count = len(data)\n",
    "\n",
    "yes = list(data['class']).count('yes')\n",
    "no = list(data['class']).count('no')\n",
    "print(yes, no)"
   ]
  },
  {
   "cell_type": "code",
   "execution_count": 3,
   "id": "428c2b68",
   "metadata": {},
   "outputs": [
    {
     "name": "stdout",
     "output_type": "stream",
     "text": [
      "0.9402859586706309\n"
     ]
    }
   ],
   "source": [
    "from math import log\n",
    "\n",
    "info_d = -(yes/count * log(yes/count, 2)) - (no/count * log(no/count, 2))\n",
    "print(info_d)"
   ]
  },
  {
   "cell_type": "code",
   "execution_count": 4,
   "id": "a54ebc02",
   "metadata": {},
   "outputs": [
    {
     "name": "stdout",
     "output_type": "stream",
     "text": [
      "5 4 5\n"
     ]
    }
   ],
   "source": [
    "youth = list(data['age']).count('youth')\n",
    "middle = list(data['age']).count('middle')\n",
    "senior = list(data['age']).count('senior')\n",
    "print(youth, middle, senior)"
   ]
  },
  {
   "cell_type": "code",
   "execution_count": 5,
   "id": "f41c0e36",
   "metadata": {},
   "outputs": [],
   "source": [
    "def gain(info_class, info_features):\n",
    "    return (info_class - info_features)"
   ]
  },
  {
   "cell_type": "code",
   "execution_count": 16,
   "id": "f721944d",
   "metadata": {},
   "outputs": [],
   "source": [
    "def infoD(data, feature):\n",
    "    info_d = 0\n",
    "    total = len(data)\n",
    "    possible_states = set(list(data[feature]))\n",
    "    \n",
    "    for state in possible_states:\n",
    "        state_count = list(data[feature]).count(state)\n",
    "        info_d += -(state_count / total * log(state_count/total, 2))\n",
    "    \n",
    "    return info_d, state_count\n"
   ]
  },
  {
   "cell_type": "code",
   "execution_count": 17,
   "id": "a682807c",
   "metadata": {},
   "outputs": [
    {
     "name": "stdout",
     "output_type": "stream",
     "text": [
      "(0.9402859586706309, 5)\n"
     ]
    }
   ],
   "source": [
    "info_class = infoD(data, 'class')\n",
    "print(info_class)"
   ]
  },
  {
   "cell_type": "code",
   "execution_count": null,
   "id": "9cf76754",
   "metadata": {},
   "outputs": [],
   "source": [
    "def info_feature(data, feature):\n",
    "    info_feature = 0\n",
    "    total = len(data)\n",
    "    \n",
    "    if(state_count != 0):\n",
    "        info_feature += (feature_count / total) * -(state_count/feature_count * log((state_count/feature_count), 2))\n",
    "        \n",
    "    return info_feature"
   ]
  },
  {
   "cell_type": "code",
   "execution_count": 18,
   "id": "66ad9b10",
   "metadata": {},
   "outputs": [
    {
     "ename": "AttributeError",
     "evalue": "'function' object has no attribute 'state_count'",
     "output_type": "error",
     "traceback": [
      "\u001b[1;31m---------------------------------------------------------------------------\u001b[0m",
      "\u001b[1;31mAttributeError\u001b[0m                            Traceback (most recent call last)",
      "Cell \u001b[1;32mIn[18], line 1\u001b[0m\n\u001b[1;32m----> 1\u001b[0m gain_income  \u001b[38;5;241m=\u001b[39m gain(info_class, info_feature(data, \u001b[38;5;124m'\u001b[39m\u001b[38;5;124mincome\u001b[39m\u001b[38;5;124m'\u001b[39m))\n\u001b[0;32m      2\u001b[0m gain_age     \u001b[38;5;241m=\u001b[39m gain(info_class, info_feature(data, \u001b[38;5;124m'\u001b[39m\u001b[38;5;124mage\u001b[39m\u001b[38;5;124m'\u001b[39m))\n\u001b[0;32m      3\u001b[0m gain_student \u001b[38;5;241m=\u001b[39m gain(info_class, info_feature(data, \u001b[38;5;124m'\u001b[39m\u001b[38;5;124mstudent\u001b[39m\u001b[38;5;124m'\u001b[39m))\n",
      "Cell \u001b[1;32mIn[16], line 16\u001b[0m, in \u001b[0;36minfo_feature\u001b[1;34m(data, feature)\u001b[0m\n\u001b[0;32m     13\u001b[0m info_feature \u001b[38;5;241m=\u001b[39m \u001b[38;5;241m0\u001b[39m\n\u001b[0;32m     14\u001b[0m total \u001b[38;5;241m=\u001b[39m \u001b[38;5;28mlen\u001b[39m(data)\n\u001b[1;32m---> 16\u001b[0m \u001b[38;5;28;01mif\u001b[39;00m(infoD\u001b[38;5;241m.\u001b[39mstate_count \u001b[38;5;241m!=\u001b[39m \u001b[38;5;241m0\u001b[39m):\n\u001b[0;32m     17\u001b[0m     info_feature \u001b[38;5;241m+\u001b[39m\u001b[38;5;241m=\u001b[39m (feature_count \u001b[38;5;241m/\u001b[39m total) \u001b[38;5;241m*\u001b[39m \u001b[38;5;241m-\u001b[39m(state_count\u001b[38;5;241m/\u001b[39mfeature_count \u001b[38;5;241m*\u001b[39m log((state_count\u001b[38;5;241m/\u001b[39mfeature_count), \u001b[38;5;241m2\u001b[39m))\n\u001b[0;32m     19\u001b[0m \u001b[38;5;28;01mreturn\u001b[39;00m info_feature\n",
      "\u001b[1;31mAttributeError\u001b[0m: 'function' object has no attribute 'state_count'"
     ]
    }
   ],
   "source": [
    "gain_income  = gain(info_class, info_feature(data, 'income'))\n",
    "gain_age     = gain(info_class, info_feature(data, 'age'))\n",
    "gain_student = gain(info_class, info_feature(data, 'student'))\n",
    "gain_credit  = gain(info_class, info_feature(data, 'credit'))\n",
    "\n",
    "gain = {'income': gain_income, 'student': gain_student, 'credit': gain_credit, 'age': gain_age}\n",
    "\n",
    "gain = pd.DataFrame(gain.items(), columns = ['feature', 'gain'])\n",
    "\n",
    "print(\"Information Gain: \")\n",
    "print(\"Income Gain: \", gain_income)\n",
    "print(\"Age Gain: \", gain_age)\n",
    "print(\"Student Gain: \", gain_student)\n",
    "print(\"Credit Gain: \", gain_credit)"
   ]
  },
  {
   "cell_type": "code",
   "execution_count": 19,
   "id": "cb94ecbb",
   "metadata": {},
   "outputs": [
    {
     "ename": "AttributeError",
     "evalue": "'function' object has no attribute 'loc'",
     "output_type": "error",
     "traceback": [
      "\u001b[1;31m---------------------------------------------------------------------------\u001b[0m",
      "\u001b[1;31mAttributeError\u001b[0m                            Traceback (most recent call last)",
      "Cell \u001b[1;32mIn[19], line 1\u001b[0m\n\u001b[1;32m----> 1\u001b[0m root \u001b[38;5;241m=\u001b[39m gain\u001b[38;5;241m.\u001b[39mloc[gain[\u001b[38;5;124m'\u001b[39m\u001b[38;5;124mgain\u001b[39m\u001b[38;5;124m'\u001b[39m] \u001b[38;5;241m==\u001b[39m \u001b[38;5;28mmax\u001b[39m(gain[\u001b[38;5;124m'\u001b[39m\u001b[38;5;124mgain\u001b[39m\u001b[38;5;124m'\u001b[39m])]\n\u001b[0;32m      2\u001b[0m root_feature \u001b[38;5;241m=\u001b[39m root[\u001b[38;5;124m'\u001b[39m\u001b[38;5;124mfeature\u001b[39m\u001b[38;5;124m'\u001b[39m]\u001b[38;5;241m.\u001b[39mtolist()[\u001b[38;5;241m0\u001b[39m]\n\u001b[0;32m      3\u001b[0m \u001b[38;5;28mprint\u001b[39m(\u001b[38;5;124m\"\u001b[39m\u001b[38;5;124mRoot Node:\u001b[39m\u001b[38;5;124m\"\u001b[39m, root_feature)\n",
      "\u001b[1;31mAttributeError\u001b[0m: 'function' object has no attribute 'loc'"
     ]
    }
   ],
   "source": [
    "root = gain.loc[gain['gain'] == max(gain['gain'])]\n",
    "root_feature = root['feature'].tolist()[0]\n",
    "print(\"Root Node:\", root_feature)"
   ]
  },
  {
   "cell_type": "code",
   "execution_count": null,
   "id": "c88ab8e3",
   "metadata": {},
   "outputs": [],
   "source": []
  }
 ],
 "metadata": {
  "kernelspec": {
   "display_name": "Python 3 (ipykernel)",
   "language": "python",
   "name": "python3"
  },
  "language_info": {
   "codemirror_mode": {
    "name": "ipython",
    "version": 3
   },
   "file_extension": ".py",
   "mimetype": "text/x-python",
   "name": "python",
   "nbconvert_exporter": "python",
   "pygments_lexer": "ipython3",
   "version": "3.11.7"
  }
 },
 "nbformat": 4,
 "nbformat_minor": 5
}
