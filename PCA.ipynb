{
 "cells": [
  {
   "cell_type": "code",
   "execution_count": 2,
   "id": "3428ed3c",
   "metadata": {},
   "outputs": [
    {
     "name": "stdout",
     "output_type": "stream",
     "text": [
      "  features  example 1  example 2  example3  example 4\n",
      "0        x          4          8        13          7\n",
      "1        y         11          4         5         14\n",
      "[['x', 4, 8, 13, 7], ['y', 11, 4, 5, 14]]\n"
     ]
    }
   ],
   "source": [
    "import pandas as pd\n",
    "import numpy as np\n",
    "import statistics\n",
    "\n",
    "data = pd.read_csv(\"pca_data.csv\")\n",
    "print(data)\n",
    "\n",
    "data = data.values.tolist()\n",
    "print(data)"
   ]
  },
  {
   "cell_type": "code",
   "execution_count": 6,
   "id": "5f4fdaac",
   "metadata": {},
   "outputs": [
    {
     "name": "stdout",
     "output_type": "stream",
     "text": [
      "Features:  2\n",
      "['x', 4, 8, 13, 7]\n",
      "['y', 11, 4, 5, 14]\n",
      "Samples:  4\n"
     ]
    }
   ],
   "source": [
    "# calculating samples and features\n",
    "\n",
    "features = 0\n",
    "f1 = []\n",
    "f2 = []\n",
    "for i in data:\n",
    "    features += 1\n",
    "print(\"Features: \", features)\n",
    "\n",
    "f1 = [*data[0]]; print(f1)\n",
    "f2 = [*data[1]]; print(f2)\n",
    "\n",
    "samples = len(f1)-1\n",
    "print(\"Samples: \", samples)"
   ]
  },
  {
   "cell_type": "code",
   "execution_count": 12,
   "id": "67b84f1e",
   "metadata": {},
   "outputs": [
    {
     "name": "stdout",
     "output_type": "stream",
     "text": [
      "Mean of X:  8.0\n",
      "Meand of Y:  8.5\n"
     ]
    }
   ],
   "source": [
    "# mean of feature X:\n",
    "\n",
    "meanX = sum([int(i) for i in f1 if type(i)== int])/samples\n",
    "print(\"Mean of X: \", meanX)\n",
    "\n",
    "meanY = sum([int(i) for i in f2 if type(i)== int])/samples\n",
    "print(\"Meand of Y: \", meanY)"
   ]
  },
  {
   "cell_type": "code",
   "execution_count": 18,
   "id": "6faf989c",
   "metadata": {},
   "outputs": [
    {
     "name": "stdout",
     "output_type": "stream",
     "text": [
      "[[4, 8, 13, 7], [11, 4, 5, 14]]\n",
      "Co Variance Matrix: \n",
      " [[ 14. -11.]\n",
      " [-11.  23.]]\n"
     ]
    }
   ],
   "source": [
    "# Covariance matrix\n",
    "\n",
    "covMatrix = []\n",
    "covMatrix.append(data[0][1:])\n",
    "covMatrix.append(data[1][1:])\n",
    "print(covMatrix)\n",
    "\n",
    "cov = np.cov(covMatrix)\n",
    "print(\"Co Variance Matrix: \\n\", cov)"
   ]
  },
  {
   "cell_type": "code",
   "execution_count": 22,
   "id": "92c6b729",
   "metadata": {},
   "outputs": [
    {
     "name": "stdout",
     "output_type": "stream",
     "text": [
      "Eigen Values: \n",
      " (array([ 6.61513568, 30.38486432]), array([[-0.83025082,  0.55738997],\n",
      "       [-0.55738997, -0.83025082]]))\n"
     ]
    }
   ],
   "source": [
    "# Eigen Values:\n",
    "\n",
    "eigen_value = np.linalg.eig(cov)\n",
    "print(\"Eigen Values: \\n\", eigen_value)"
   ]
  },
  {
   "cell_type": "code",
   "execution_count": 24,
   "id": "05d92a61",
   "metadata": {},
   "outputs": [
    {
     "name": "stdout",
     "output_type": "stream",
     "text": [
      "[ 6.61513568 30.38486432]\n",
      "E1:  [ 0.55738997 -0.83025082]\n",
      "E2:  [0.55738997 0.83025082]\n"
     ]
    }
   ],
   "source": [
    "# Eigen Vectors:\n",
    "\n",
    "from numpy.linalg import eig\n",
    "\n",
    "oned_eigen_value = eigen_value[0]\n",
    "\n",
    "e1 = eigen_value[1][0][::-1]\n",
    "e2 = -eigen_value[1][1]\n",
    "\n",
    "print(oned_eigen_value)\n",
    "print(\"E1: \", e1)\n",
    "print(\"E2: \", e2)"
   ]
  },
  {
   "cell_type": "code",
   "execution_count": 25,
   "id": "8fb63603",
   "metadata": {},
   "outputs": [
    {
     "name": "stdout",
     "output_type": "stream",
     "text": [
      "Normalized Eigen Vector:  [0.55738997 0.83025082]\n"
     ]
    }
   ],
   "source": [
    "# Normalized Eigen Vector\n",
    "\n",
    "norm_eigen_vector = e2/np.linalg.norm(e2)\n",
    "print(\"Normalized Eigen Vector: \", norm_eigen_vector)"
   ]
  },
  {
   "cell_type": "code",
   "execution_count": 29,
   "id": "efed0755",
   "metadata": {},
   "outputs": [
    {
     "name": "stdout",
     "output_type": "stream",
     "text": [
      "[-4.3051869226747055, 0, 0, 0]\n",
      "[-4.3051869226747055, 3.73612868661133, 0, 0]\n",
      "[-4.3051869226747055, 3.73612868661133, 5.692827710560993, 0]\n",
      "[-4.3051869226747055, 3.73612868661133, 5.692827710560993, -5.1237694744976165]\n"
     ]
    }
   ],
   "source": [
    "bd = []\n",
    "\n",
    "for i in range(len(c[0])):\n",
    "    bd.append(0)\n",
    "\n",
    "for i in range(len(bd)):\n",
    "    a = np.matmul(e1, [[c[0][i] - meanX], [c[1][i] - meanY]])\n",
    "    bd[i] = a[0]\n",
    "    print(bd)"
   ]
  },
  {
   "cell_type": "code",
   "execution_count": 42,
   "id": "b8445f08",
   "metadata": {},
   "outputs": [
    {
     "data": {
      "image/png": "[encoded data removed]",
      "text/plain": [
       "<Figure size 432x288 with 1 Axes>"
      ]
     },
     "metadata": {
      "needs_background": "light"
     },
     "output_type": "display_data"
    }
   ],
   "source": [
    "# Ploting E1 and E2 and Derived Points:\n",
    "\n",
    "import matplotlib.pyplot as plt\n",
    "\n",
    "fig, ax = plt.subplots()\n",
    "\n",
    "ax.plot(meanX, meanY, \"bo\")\n",
    "\n",
    "ax.arrow(meanX, meanY, e1[0], e2[1], head_width=0.2, head_length=0.2, fc=\"blue\", ec=\"blue\", label=\"e2\")\n",
    "ax.arrow(meanX, meanY, e2[0], e1[1], head_width=0.2, head_length=0.2, fc=\"green\", ec=\"green\", label=\"e1\")\n",
    "\n",
    "for i in bd:\n",
    "    ax.plot(meanX + e2[0] + i, meanY + e1[1] - i, 'go', label=\"Derived Points\")\n",
    "\n",
    "ax.set_xlim(1, 15)\n",
    "ax.set_ylim(1, 15)\n",
    "ax.legend()\n",
    "plt.show()"
   ]
  },
  {
   "cell_type": "code",
   "execution_count": null,
   "id": "c25a3f10",
   "metadata": {},
   "outputs": [],
   "source": []
  }
 ],
 "metadata": {
  "kernelspec": {
   "display_name": "Python 3",
   "language": "python",
   "name": "python3"
  },
  "language_info": {
   "codemirror_mode": {
    "name": "ipython",
    "version": 3
   },
   "file_extension": ".py",
   "mimetype": "text/x-python",
   "name": "python",
   "nbconvert_exporter": "python",
   "pygments_lexer": "ipython3",
   "version": "3.8.8"
  }
 },
 "nbformat": 4,
 "nbformat_minor": 5
}
