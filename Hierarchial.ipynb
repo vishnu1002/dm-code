{
 "cells": [
  {
   "cell_type": "code",
   "execution_count": 1,
   "id": "2cd2b3c3",
   "metadata": {},
   "outputs": [
    {
     "name": "stdout",
     "output_type": "stream",
     "text": [
      "[[0.7   3.2  ]\n",
      " [2.45  2.89 ]\n",
      " [3.47  1.12 ]\n",
      " [5.23  5.24 ]\n",
      " [5.98  6.23 ]\n",
      " [7.778 8.63 ]\n",
      " [8.97  6.12 ]]\n"
     ]
    }
   ],
   "source": [
    "import numpy as np\n",
    "\n",
    "data = np.array([[0.7, 3.2],\n",
    "                [2.45, 2.89],\n",
    "                [3.47, 1.12],\n",
    "                [5.23, 5.24],\n",
    "                [5.98, 6.23],\n",
    "                [7.778, 8.63],\n",
    "                [8.97, 6.12]])\n",
    "print(data)"
   ]
  },
  {
   "cell_type": "code",
   "execution_count": 21,
   "id": "00f04ce7",
   "metadata": {},
   "outputs": [
    {
     "data": {
      "image/png": "[encoded data removed]",
      "text/plain": [
       "<Figure size 432x288 with 1 Axes>"
      ]
     },
     "metadata": {
      "needs_background": "light"
     },
     "output_type": "display_data"
    }
   ],
   "source": [
    "import matplotlib.pyplot as plt\n",
    "\n",
    "# 7 elements, so (1,8)\n",
    "labels = range(1, 8)\n",
    "\n",
    "plt.scatter(data[:, 0], data[:, 1], label=\"True Position\")\n",
    "\n",
    "for label, x, y in zip(labels, data[:, 0], data[:, 1]):\n",
    "    plt.annotate(\n",
    "        label,\n",
    "        xy=(x, y), xytext=(-3, 3),\n",
    "        textcoords=\"offset points\", ha=\"right\", va=\"bottom\")\n",
    "\n",
    "plt.show()\n"
   ]
  },
  {
   "cell_type": "code",
   "execution_count": 25,
   "id": "992afb44",
   "metadata": {},
   "outputs": [
    {
     "data": {
      "image/png": "[encoded data removed]",
      "text/plain": [
       "<Figure size 432x288 with 1 Axes>"
      ]
     },
     "metadata": {
      "needs_background": "light"
     },
     "output_type": "display_data"
    }
   ],
   "source": [
    "from scipy.cluster.hierarchy import dendrogram, linkage\n",
    "\n",
    "linked = linkage(data, 'single')\n",
    "\n",
    "labelList = list(range(1, 8))\n",
    "\n",
    "dendrogram(linked,\n",
    "          orientation='top',\n",
    "          labels=labelList,\n",
    "          distance_sort='descending',\n",
    "          show_leaf_counts=True)\n",
    "\n",
    "plt.title(\"Single Linkage Hierarchial\")\n",
    "plt.show()"
   ]
  },
  {
   "cell_type": "code",
   "execution_count": 26,
   "id": "1c8fdc4b",
   "metadata": {},
   "outputs": [
    {
     "data": {
      "image/png": "[encoded data removed]",
      "text/plain": [
       "<Figure size 432x288 with 1 Axes>"
      ]
     },
     "metadata": {
      "needs_background": "light"
     },
     "output_type": "display_data"
    }
   ],
   "source": [
    "linked = linkage(data, 'complete')\n",
    "label = range(1, 8)\n",
    "\n",
    "dendrogram(linked,\n",
    "            orientation='top',\n",
    "            labels = label,\n",
    "            distance_sort='descending',\n",
    "            show_leaf_counts=True)\n",
    "\n",
    "plt.title(\"Complete Linkage Hierarchial\")\n",
    "plt.show()"
   ]
  },
  {
   "cell_type": "code",
   "execution_count": 27,
   "id": "1f9baddb",
   "metadata": {},
   "outputs": [
    {
     "data": {
      "image/png": "[encoded data removed]",
      "text/plain": [
       "<Figure size 432x288 with 1 Axes>"
      ]
     },
     "metadata": {
      "needs_background": "light"
     },
     "output_type": "display_data"
    }
   ],
   "source": [
    "linked = linkage(data, 'average')\n",
    "label = range(1, 8)\n",
    "\n",
    "dendrogram(linked,\n",
    "            orientation='top',\n",
    "            labels=label,\n",
    "            distance_sort='descending',\n",
    "            show_leaf_counts=True)\n",
    "\n",
    "plt.title(\"Average Linkage Hierarchial\")\n",
    "plt.show()"
   ]
  },
  {
   "cell_type": "code",
   "execution_count": null,
   "id": "48b05a78",
   "metadata": {},
   "outputs": [],
   "source": []
  }
 ],
 "metadata": {
  "kernelspec": {
   "display_name": "Python 3",
   "language": "python",
   "name": "python3"
  },
  "language_info": {
   "codemirror_mode": {
    "name": "ipython",
    "version": 3
   },
   "file_extension": ".py",
   "mimetype": "text/x-python",
   "name": "python",
   "nbconvert_exporter": "python",
   "pygments_lexer": "ipython3",
   "version": "3.8.8"
  }
 },
 "nbformat": 4,
 "nbformat_minor": 5
}
