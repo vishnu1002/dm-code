{
 "cells": [
  {
   "cell_type": "code",
   "execution_count": 2,
   "id": "9e65473a",
   "metadata": {},
   "outputs": [],
   "source": [
    "import pandas as pd\n",
    "from scipy.stats import chi2_contingency"
   ]
  },
  {
   "cell_type": "code",
   "execution_count": 4,
   "id": "cd254b6f",
   "metadata": {},
   "outputs": [
    {
     "name": "stdout",
     "output_type": "stream",
     "text": [
      "Expected Frequency: \n",
      " [[  90.  360.  450.]\n",
      " [ 210.  840. 1050.]\n",
      " [ 300. 1200. 1500.]]\n",
      "Chi Square:  507.93650793650795\n",
      "Degrees of Freedom:  1\n"
     ]
    }
   ],
   "source": [
    "data = pd.read_csv(\"contigency_table.csv\")\n",
    "data = pd.DataFrame([[250, 200, 450],\n",
    "                   [50, 1000, 1050],\n",
    "                   [300, 1200, 1500]],\n",
    "                   index=['fiction', 'non fiction', 'total'],\n",
    "                   columns=['male', 'female', 'total'])\n",
    "\n",
    "freq = chi2_contingency(data)[3]\n",
    "chi = chi2_contingency(data)[0]\n",
    "degree = (2-1) * (2-1) #(row-1) * (column -1)\n",
    "\n",
    "print(\"Expected Frequency: \\n\", freq)\n",
    "print(\"Chi Square: \", chi)\n",
    "print(\"Degrees of Freedom: \", degree)"
   ]
  },
  {
   "cell_type": "code",
   "execution_count": 5,
   "id": "08b03c24-1dcd-4f10-be2f-426fc3b57932",
   "metadata": {},
   "outputs": [
    {
     "name": "stdout",
     "output_type": "stream",
     "text": [
      "Reject Hypothesis, Independent and Strongly Correlated\n"
     ]
    }
   ],
   "source": [
    "significantValue = 10.828\n",
    "\n",
    "if(chi > significantValue):\n",
    "    print(\"Reject Hypothesis, Independent and Strongly Correlated\")\n",
    "else:\n",
    "    print(\"Accpet Hypothesis, Dependent and Weakly Correlated\")"
   ]
  },
  {
   "cell_type": "code",
   "execution_count": null,
   "id": "1df3569f-f0cb-4ba2-ad13-88a4f3a7a444",
   "metadata": {},
   "outputs": [],
   "source": []
  }
 ],
 "metadata": {
  "kernelspec": {
   "display_name": "Python 3 (ipykernel)",
   "language": "python",
   "name": "python3"
  },
  "language_info": {
   "codemirror_mode": {
    "name": "ipython",
    "version": 3
   },
   "file_extension": ".py",
   "mimetype": "text/x-python",
   "name": "python",
   "nbconvert_exporter": "python",
   "pygments_lexer": "ipython3",
   "version": "3.11.7"
  }
 },
 "nbformat": 4,
 "nbformat_minor": 5
}
