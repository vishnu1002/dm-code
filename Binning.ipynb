{
 "cells": [
  {
   "cell_type": "code",
   "execution_count": 20,
   "id": "b996baef",
   "metadata": {},
   "outputs": [
    {
     "name": "stdout",
     "output_type": "stream",
     "text": [
      "    sales\n",
      "0      13\n",
      "1      15\n",
      "2      35\n",
      "3      11\n",
      "4      10\n",
      "5       5\n",
      "6      72\n",
      "7      55\n",
      "8      50\n",
      "9     215\n",
      "10    204\n",
      "11     92\n"
     ]
    }
   ],
   "source": [
    "# Binning Data\n",
    "import pandas as pd\n",
    "import numpy as np\n",
    "import statistics\n",
    "\n",
    "# data = np.array([13, 15, 35, 11, 10, 5, 72, 55, 50, 215, 204, 92])\n",
    "# data = np.sort(data)\n",
    "\n",
    "d = pd.read_csv(\"sales_price.csv\")\n",
    "print(d)"
   ]
  },
  {
   "cell_type": "code",
   "execution_count": 22,
   "id": "b133e523",
   "metadata": {},
   "outputs": [
    {
     "name": "stdout",
     "output_type": "stream",
     "text": [
      "0      13\n",
      "1      15\n",
      "2      35\n",
      "3      11\n",
      "4      10\n",
      "5       5\n",
      "6      72\n",
      "7      55\n",
      "8      50\n",
      "9     215\n",
      "10    204\n",
      "11     92\n",
      "Name: sales, dtype: int64\n",
      "[5, 10, 11, 13, 15, 35, 50, 55, 72, 92, 204, 215]\n"
     ]
    }
   ],
   "source": [
    "p = d['sales']\n",
    "print(p)\n",
    "\n",
    "t = []\n",
    "for i in p:\n",
    "    t.append(i)\n",
    "    t.sort()\n",
    "print(t)\n"
   ]
  },
  {
   "cell_type": "code",
   "execution_count": 25,
   "id": "42af4860",
   "metadata": {},
   "outputs": [
    {
     "name": "stdout",
     "output_type": "stream",
     "text": [
      "Equal Frequency Binning\n",
      "[5, 10, 11, 13]\n",
      "[15, 35, 50, 55]\n",
      "[72, 92, 204, 215]\n"
     ]
    }
   ],
   "source": [
    "binSize = 3\n",
    "\n",
    "def equiFreq(arr, binSize):\n",
    "    arrlen = len(arr1)\n",
    "    n = int(arrlen/binSize)\n",
    "    \n",
    "    for i in range(0, binSize):\n",
    "        arr=[]\n",
    "        for j in range(i * n, (i+1) * n):\n",
    "            if(j >= arrlen):\n",
    "                break\n",
    "            arr = arr + [arr1[j]]\n",
    "        print(arr)\n",
    "\n",
    "print(\"Equal Frequency Binning\")\n",
    "equiFreq(t, binSize)"
   ]
  },
  {
   "cell_type": "code",
   "execution_count": 35,
   "id": "909aefd5",
   "metadata": {},
   "outputs": [
    {
     "name": "stdout",
     "output_type": "stream",
     "text": [
      "Bin Mean: \n",
      " [[  9.75   9.75   9.75   9.75]\n",
      " [ 38.75  38.75  38.75  38.75]\n",
      " [145.75 145.75 145.75 145.75]]\n"
     ]
    }
   ],
   "source": [
    "# Bin Mean\n",
    "\n",
    "# np.zeros(no.of partition, no.of value per part)\n",
    "\n",
    "bin1 = np.zeros((3, 4)) \n",
    "bin2 = np.zeros((3, 4))\n",
    "bin3 = np.zeros((3, 4))\n",
    "\n",
    "# (0, no.of data, no.of value per part)\n",
    "for i in range(0, 12, 4):\n",
    "    k = int(i/4) # 4 = no.of value per part\n",
    "    mean = (t[i] + t[i+1] + t[i+2] + t[i+3])/4\n",
    "    for j in range(4):\n",
    "        bin1[k, j] = mean\n",
    "print(\"Bin Mean: \\n\", bin1)\n",
    "        \n",
    "    \n",
    "    \n",
    "    "
   ]
  },
  {
   "cell_type": "code",
   "execution_count": null,
   "id": "c8309788",
   "metadata": {},
   "outputs": [],
   "source": [
    "# Bin Median\n",
    "\n",
    "for i in range(0, 12, 4):\n",
    "    k = int(i/3)\n",
    "    for j in range(4):\n",
    "        bin3[k, j] = t"
   ]
  },
  {
   "cell_type": "code",
   "execution_count": 37,
   "id": "c1d341ba",
   "metadata": {},
   "outputs": [
    {
     "name": "stdout",
     "output_type": "stream",
     "text": [
      "Bin Boundary: \n",
      " [[  5.  11.  11.  11.]\n",
      " [ 15.  50.  50.  50.]\n",
      " [ 72.  72. 204. 204.]]\n"
     ]
    }
   ],
   "source": [
    "for i in range(0, 12, 4):\n",
    "    k = int(i/4)\n",
    "    for j in range(4):\n",
    "        if(t[i+j] - t[i]) < (t[i+2] - t[i+j]):\n",
    "            bin2[k, j] = t[i]\n",
    "        else:\n",
    "            bin2[k, j] = t[i+2]\n",
    "\n",
    "print(\"Bin Boundary: \\n\", bin2)"
   ]
  },
  {
   "cell_type": "code",
   "execution_count": null,
   "id": "319337e9",
   "metadata": {},
   "outputs": [],
   "source": []
  }
 ],
 "metadata": {
  "kernelspec": {
   "display_name": "Python 3",
   "language": "python",
   "name": "python3"
  },
  "language_info": {
   "codemirror_mode": {
    "name": "ipython",
    "version": 3
   },
   "file_extension": ".py",
   "mimetype": "text/x-python",
   "name": "python",
   "nbconvert_exporter": "python",
   "pygments_lexer": "ipython3",
   "version": "3.8.8"
  }
 },
 "nbformat": 4,
 "nbformat_minor": 5
}
