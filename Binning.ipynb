{
 "cells": [
  {
   "cell_type": "code",
   "execution_count": 14,
   "id": "b996baef",
   "metadata": {},
   "outputs": [
    {
     "name": "stdout",
     "output_type": "stream",
     "text": [
      "[5, 10, 11, 13, 15, 35, 50, 55, 72, 92, 204, 215]\n"
     ]
    }
   ],
   "source": [
    "# Binning Data\n",
    "import pandas as pd\n",
    "import numpy as np\n",
    "import statistics\n",
    "\n",
    "data = pd.read_csv(\"sales_price.csv\")\n",
    "data = data['sales'].tolist()\n",
    "data.sort()\n",
    "print(data)"
   ]
  },
  {
   "cell_type": "code",
   "execution_count": 15,
   "id": "42af4860",
   "metadata": {},
   "outputs": [
    {
     "name": "stdout",
     "output_type": "stream",
     "text": [
      "Equal Frequency Binning\n",
      "[5, 10, 11, 13]\n",
      "[15, 35, 50, 55]\n",
      "[72, 92, 204, 215]\n"
     ]
    }
   ],
   "source": [
    "size = 3\n",
    "def equiFreq(data, size):\n",
    "    n = len(data)//size\n",
    "    \n",
    "    for i in range(size):\n",
    "        chunk = data[i*n : (i+1)*n]\n",
    "        print(chunk)\n",
    "\n",
    "print(\"Equal Frequency Binning\")\n",
    "equiFreq(data, size)"
   ]
  },
  {
   "cell_type": "code",
   "execution_count": 16,
   "id": "909aefd5",
   "metadata": {},
   "outputs": [],
   "source": [
    "bin1 = np.zeros((3, 4)) \n",
    "bin2 = np.zeros((3, 4))\n",
    "bin3 = np.zeros((3, 4))"
   ]
  },
  {
   "cell_type": "code",
   "execution_count": 17,
   "id": "9d4c142d-2a5f-43b3-9f66-de82ae36dbce",
   "metadata": {},
   "outputs": [
    {
     "name": "stdout",
     "output_type": "stream",
     "text": [
      "Bin Mean: \n",
      " [[  9.75   9.75   9.75   9.75]\n",
      " [ 38.75  38.75  38.75  38.75]\n",
      " [145.75 145.75 145.75 145.75]]\n"
     ]
    }
   ],
   "source": [
    "# Bin Mean\n",
    "\n",
    "# (0, no.of data, no.of value per part)\n",
    "for i in range(0, 12, 4):\n",
    "    k = i//4 # 4 = no.of value per par\n",
    "    mean = (data[i] + data[i+1] + data[i+2] + data[i+3])/4\n",
    "    for j in range(4):\n",
    "        bin1[k, j] = mean\n",
    "print(\"Bin Mean: \\n\", bin1)"
   ]
  },
  {
   "cell_type": "code",
   "execution_count": 18,
   "id": "c8309788",
   "metadata": {},
   "outputs": [
    {
     "name": "stdout",
     "output_type": "stream",
     "text": [
      "Bin Meadian: \n",
      " [[10. 10. 10. 10.]\n",
      " [35. 35. 35. 35.]\n",
      " [92. 92. 92. 92.]]\n"
     ]
    }
   ],
   "source": [
    "# Bin Median\n",
    "\n",
    "for i in range(0, 12, 4):\n",
    "    k = i//4\n",
    "    for j in range(4):\n",
    "        bin2[k,j] = data[i+1]\n",
    "print(\"Bin Meadian: \\n\",bin2)"
   ]
  },
  {
   "cell_type": "code",
   "execution_count": 32,
   "id": "c1d341ba",
   "metadata": {},
   "outputs": [
    {
     "name": "stdout",
     "output_type": "stream",
     "text": [
      "Bin Boundary: \n",
      " [[13.  5.  5.  5.]\n",
      " [55. 15. 15. 15.]\n",
      " [72. 72. 72. 72.]]\n"
     ]
    }
   ],
   "source": [
    "# Bin Boundary\n",
    "\n",
    "for i in range(0, 12, 4):\n",
    "    k = int(i/4)\n",
    "    for j in range(4):\n",
    "        if(data[i+j] - data[i]) < (data[i+2] - data[i+j]):\n",
    "            bin2[k, j] = data[i]\n",
    "        else:\n",
    "            bin2[k, j] = data[i+2]\n",
    "\n",
    "print(\"Bin Boundary: \\n\", bin2)"
   ]
  },
  {
   "cell_type": "code",
   "execution_count": 33,
   "id": "c9d17df1-55e2-4ecc-a563-4fe6029aa051",
   "metadata": {},
   "outputs": [
    {
     "name": "stdout",
     "output_type": "stream",
     "text": [
      "Bin Boundary: \n",
      " [[  5.   5.   5.  13.]\n",
      " [ 15.  15.  15.  55.]\n",
      " [ 72.  72.  72. 215.]]\n"
     ]
    }
   ],
   "source": [
    "# Bin Boundary (alternative)\n",
    "\n",
    "for i in range(0, 12, 4):\n",
    "    k = i//4    \n",
    "    bin2[k] = [data[i], data[i], data[i], data[i+3]]\n",
    "    \n",
    "print(\"Bin Boundary: \\n\", bin2)"
   ]
  },
  {
   "cell_type": "code",
   "execution_count": null,
   "id": "a8809dac-5180-41f2-b084-fe82d52e6b82",
   "metadata": {},
   "outputs": [],
   "source": []
  }
 ],
 "metadata": {
  "kernelspec": {
   "display_name": "Python 3 (ipykernel)",
   "language": "python",
   "name": "python3"
  },
  "language_info": {
   "codemirror_mode": {
    "name": "ipython",
    "version": 3
   },
   "file_extension": ".py",
   "mimetype": "text/x-python",
   "name": "python",
   "nbconvert_exporter": "python",
   "pygments_lexer": "ipython3",
   "version": "3.11.7"
  }
 },
 "nbformat": 4,
 "nbformat_minor": 5
}
