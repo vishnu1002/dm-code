{
 "cells": [
  {
   "cell_type": "code",
   "execution_count": 2,
   "id": "99a8c376",
   "metadata": {},
   "outputs": [
    {
     "name": "stdout",
     "output_type": "stream",
     "text": [
      "Collecting pyfpgrowth\n",
      "  Downloading pyfpgrowth-1.0.tar.gz (1.6 MB)\n",
      "Building wheels for collected packages: pyfpgrowth\n",
      "  Building wheel for pyfpgrowth (setup.py): started\n",
      "  Building wheel for pyfpgrowth (setup.py): finished with status 'done'\n",
      "  Created wheel for pyfpgrowth: filename=pyfpgrowth-1.0-py2.py3-none-any.whl size=5477 sha256=ed2e44ee96456f448c05ce59341ed69e103d55aa8b7b2829b01c500a027233bd\n",
      "  Stored in directory: c:\\users\\android\\appdata\\local\\pip\\cache\\wheels\\29\\e2\\a7\\ccb34c35e2c6737d3f09b53784f4323b7ff556a5f02096c70d\n",
      "Successfully built pyfpgrowth\n",
      "Installing collected packages: pyfpgrowth\n",
      "Successfully installed pyfpgrowth-1.0\n",
      "Note: you may need to restart the kernel to use updated packages.\n"
     ]
    }
   ],
   "source": [
    "pip install pyfpgrowth"
   ]
  },
  {
   "cell_type": "code",
   "execution_count": 3,
   "id": "3428ed3c",
   "metadata": {},
   "outputs": [
    {
     "name": "stdout",
     "output_type": "stream",
     "text": [
      "[['1', '2', '5'], ['2', '4'], ['2', '3'], ['1', '2', '4'], ['1', '3'], ['2', '3'], ['1', '3'], ['1', '2', '3', '5'], ['1', '2', '3']]\n"
     ]
    }
   ],
   "source": [
    "import pandas as p\n",
    "import numpy as np\n",
    "import statistics\n",
    "import pyfpgrowth\n",
    "\n",
    "transactions = [\n",
    "    ['1', '2', '5'],\n",
    "    ['2', '4'],\n",
    "    ['2', '3'],\n",
    "    ['1', '2', '4'],\n",
    "    ['1', '3'],\n",
    "    ['2', '3'],\n",
    "    ['1', '3'],\n",
    "    ['1', '2', '3', '5'],\n",
    "    ['1', '2', '3']\n",
    "]\n",
    "\n",
    "print(transactions)"
   ]
  },
  {
   "cell_type": "code",
   "execution_count": 7,
   "id": "680f5ace",
   "metadata": {},
   "outputs": [
    {
     "name": "stdout",
     "output_type": "stream",
     "text": [
      "Frequent Patterns: \n",
      " {('5',): 2, ('1', '5'): 2, ('2', '5'): 2, ('3', '5'): 1, ('1', '2', '5'): 2, ('1', '3', '5'): 1, ('2', '3', '5'): 1, ('1', '2', '3', '5'): 1, ('4',): 2, ('2', '4'): 2, ('1', '4'): 1, ('1', '2', '4'): 1, ('1',): 6, ('1', '2'): 4, ('2', '3'): 4, ('1', '2', '3'): 2, ('1', '3'): 4, ('2',): 7}\n",
      "Rules: \n",
      " {('5',): (('1', '2', '3'), 0.5), ('1', '2'): (('3',), 0.5), ('1', '5'): (('2', '3'), 0.5), ('2', '5'): (('1', '3'), 0.5), ('3', '5'): (('1', '2'), 1.0), ('1', '2', '3'): (('5',), 0.5), ('1', '2', '5'): (('3',), 0.5), ('1', '3', '5'): (('2',), 1.0), ('2', '3', '5'): (('1',), 1.0), ('4',): (('1', '2'), 0.5), ('1', '4'): (('2',), 1.0), ('2', '4'): (('1',), 0.5), ('1',): (('3',), 0.6666666666666666), ('2',): (('3',), 0.5714285714285714), ('1', '3'): (('2',), 0.5), ('2', '3'): (('1',), 0.5)}\n"
     ]
    }
   ],
   "source": [
    "FrequentPatterns = pyfpgrowth.find_frequent_patterns(transactions = transactions, support_threshold = 0.5)\n",
    "print(\"Frequent Patterns: \\n\", FrequentPatterns)\n",
    "\n",
    "Rules = pyfpgrowth.generate_association_rules(patterns = FrequentPatterns, confidence_threshold = 0.5)\n",
    "print(\"Rules: \\n\", Rules)"
   ]
  },
  {
   "cell_type": "code",
   "execution_count": 8,
   "id": "37a641b7",
   "metadata": {},
   "outputs": [],
   "source": [
    "import pandas as pd\n",
    "import pyfpgrowth\n",
    "import numpy as np\n",
    "import statistics"
   ]
  },
  {
   "cell_type": "code",
   "execution_count": 22,
   "id": "5519b634",
   "metadata": {},
   "outputs": [
    {
     "name": "stdout",
     "output_type": "stream",
     "text": [
      "    TID            List\n",
      "0  T100      I1, I2, I5\n",
      "1  T200          I2, I4\n",
      "2  T300          I2, I3\n",
      "3  T400      I1, I2, I4\n",
      "4  T500          I1, I3\n",
      "5  T600          I2, I3\n",
      "6  T700          I1, I3\n",
      "7  T800  I1, I2, I3, I5\n",
      "8  T900      I1, I2, I3\n",
      "                ID  List\n",
      "0           ( I5,)     2\n",
      "1       ( I2,  I5)     2\n",
      "2        ( I5, I1)     2\n",
      "3   ( I2,  I5, I1)     2\n",
      "4           ( I4,)     2\n",
      "5            (I2,)     3\n",
      "6        ( I3, I2)     2\n",
      "7           ( I2,)     4\n",
      "8        ( I2, I1)     4\n",
      "9       ( I2,  I3)     2\n",
      "10  ( I2,  I3, I1)     2\n",
      "11           (I1,)     6\n",
      "12          ( I3,)     6\n",
      "13       ( I3, I1)     4\n",
      "               ID  List\n",
      "0  ( I2,  I5, I1)     2\n",
      "1  ( I2,  I3, I1)     2\n"
     ]
    },
    {
     "ename": "TypeError",
     "evalue": "list indices must be integers or slices, not str",
     "output_type": "error",
     "traceback": [
      "\u001b[1;31m---------------------------------------------------------------------------\u001b[0m",
      "\u001b[1;31mTypeError\u001b[0m                                 Traceback (most recent call last)",
      "\u001b[1;32m<ipython-input-22-90067b0b4018>\u001b[0m in \u001b[0;36m<module>\u001b[1;34m\u001b[0m\n\u001b[0;32m     82\u001b[0m }\n\u001b[0;32m     83\u001b[0m \u001b[1;33m\u001b[0m\u001b[0m\n\u001b[1;32m---> 84\u001b[1;33m \u001b[0mfp_tree\u001b[0m \u001b[1;33m=\u001b[0m \u001b[0mcreate_fp_tree\u001b[0m\u001b[1;33m(\u001b[0m\u001b[0mdataset\u001b[0m\u001b[1;33m)\u001b[0m\u001b[1;33m\u001b[0m\u001b[1;33m\u001b[0m\u001b[0m\n\u001b[0m\u001b[0;32m     85\u001b[0m \u001b[1;33m\u001b[0m\u001b[0m\n\u001b[0;32m     86\u001b[0m \u001b[1;31m# Define the print tree function to prin the FP tree in a tree like structure\u001b[0m\u001b[1;33m\u001b[0m\u001b[1;33m\u001b[0m\u001b[1;33m\u001b[0m\u001b[0m\n",
      "\u001b[1;32m<ipython-input-22-90067b0b4018>\u001b[0m in \u001b[0;36mcreate_fp_tree\u001b[1;34m(dataset)\u001b[0m\n\u001b[0;32m     49\u001b[0m                 \u001b[0mitem_counts\u001b[0m\u001b[1;33m[\u001b[0m\u001b[0mitem\u001b[0m\u001b[1;33m]\u001b[0m \u001b[1;33m+=\u001b[0m \u001b[1;36m1\u001b[0m\u001b[1;33m\u001b[0m\u001b[1;33m\u001b[0m\u001b[0m\n\u001b[0;32m     50\u001b[0m             \u001b[1;32melse\u001b[0m\u001b[1;33m:\u001b[0m\u001b[1;33m\u001b[0m\u001b[1;33m\u001b[0m\u001b[0m\n\u001b[1;32m---> 51\u001b[1;33m                 \u001b[0mitem_counts\u001b[0m\u001b[1;33m[\u001b[0m\u001b[0mitem\u001b[0m\u001b[1;33m]\u001b[0m \u001b[1;33m=\u001b[0m \u001b[1;36m1\u001b[0m\u001b[1;33m\u001b[0m\u001b[1;33m\u001b[0m\u001b[0m\n\u001b[0m\u001b[0;32m     52\u001b[0m \u001b[1;33m\u001b[0m\u001b[0m\n\u001b[0;32m     53\u001b[0m         \u001b[0msorted_items\u001b[0m \u001b[1;33m=\u001b[0m \u001b[1;33m[\u001b[0m\u001b[0mitem\u001b[0m \u001b[1;32mfor\u001b[0m \u001b[0mitem\u001b[0m\u001b[1;33m,\u001b[0m \u001b[0mcount\u001b[0m \u001b[1;32min\u001b[0m \u001b[0msorted\u001b[0m\u001b[1;33m(\u001b[0m\u001b[0mitem_counts\u001b[0m\u001b[1;33m.\u001b[0m\u001b[0mitmes\u001b[0m\u001b[1;33m(\u001b[0m\u001b[1;33m)\u001b[0m\u001b[1;33m,\u001b[0m \u001b[0mkey\u001b[0m\u001b[1;33m=\u001b[0m\u001b[1;32mlambda\u001b[0m \u001b[0mx\u001b[0m\u001b[1;33m:\u001b[0m \u001b[0mx\u001b[0m\u001b[1;33m[\u001b[0m\u001b[1;36m1\u001b[0m\u001b[1;33m]\u001b[0m\u001b[1;33m,\u001b[0m \u001b[0mreverse\u001b[0m \u001b[1;33m=\u001b[0m \u001b[1;32mTrue\u001b[0m\u001b[1;33m)\u001b[0m\u001b[1;33m]\u001b[0m\u001b[1;33m\u001b[0m\u001b[1;33m\u001b[0m\u001b[0m\n",
      "\u001b[1;31mTypeError\u001b[0m: list indices must be integers or slices, not str"
     ]
    }
   ],
   "source": [
    "data = pd.read_csv(\"apriory_data.csv\")\n",
    "print(data)\n",
    "\n",
    "min = 2\n",
    "dataset = {}\n",
    "\n",
    "for i in data.values.tolist():\n",
    "    dataset[i[0]] = i[1].split(',')\n",
    "\n",
    "    \n",
    "transactions = []\n",
    "for i in dataset.values():\n",
    "    transactions.append(i)\n",
    "patterns = pyfpgrowth.find_frequent_patterns(transactions, 2)\n",
    "dpatterns = pd.DataFrame(patterns.items(), columns = ['ID', \"List\"])\n",
    "print(dpatterns)\n",
    "\n",
    "# Frequent Elements\n",
    "\n",
    "m = 0\n",
    "for i in patterns.keys():\n",
    "    if len(i) > m:\n",
    "        m = len(i)\n",
    "\n",
    "frequent_items = {}\n",
    "for i, j in patterns.items():\n",
    "    if len(i) == m:\n",
    "        frequent_items[i] = j\n",
    "\n",
    "freqItem = pd.DataFrame(frequent_items.items(), columns = ['ID', \"List\"])\n",
    "print(freqItem)\n",
    "\n",
    "# Define the create node function to create a new node in the FP tree\n",
    "\n",
    "def create_node(item, count, parent):\n",
    "    node = {'item': item, 'count': count, 'parent': parent, 'children': {}}\n",
    "    return node\n",
    "\n",
    "# Define the update node function to update an existing node in the FP tree\n",
    "def update_node(node, count):\n",
    "    node['count'] += count\n",
    "\n",
    "#Defind the main function to create the FP tree\n",
    "def create_fp_tree(dataset):\n",
    "    item_counts = []\n",
    "    for tid, itemset in dataset.items():\n",
    "        for item in itemset:\n",
    "            if item in item_counts:\n",
    "                item_counts[item] += 1\n",
    "            else:\n",
    "                item_counts[item] = 1\n",
    "        \n",
    "        sorted_items = [item for item, count in sorted(item_counts.itmes(), key=lambda x: x[1], reverse = True)]\n",
    "        root = create_node(None, 0, None)\n",
    "        \n",
    "        # Traverse the dataset and update the FP tree\n",
    "        for tid, itemset in dataset.items():\n",
    "            itemset = [item for item in sorted_items if item in itemset]\n",
    "            current_node = root\n",
    "            for item in itemset:\n",
    "                if(item in current_node[\"children\"]):\n",
    "                    child_node = current_node[\"children\"][item]\n",
    "                else:\n",
    "                    child_node = create_node(item, 0, current_node)\n",
    "                    current_node[\"children\"][itme] = child_node\n",
    "                update_node(child_node, 1)\n",
    "                current_node = child_node\n",
    "        \n",
    "        return root\n",
    "    \n",
    "\n",
    "dataset = {\n",
    "    0: ['I1', 'I2', 'I5'],\n",
    "    1: ['I2','I4'],\n",
    "    2: ['I2', 'I3'],\n",
    "    3: ['I1', 'I2', 'I4'],\n",
    "    4: ['I1', 'I3'],\n",
    "    5: ['I2', 'I3'],\n",
    "    6: ['I1', 'I3'],\n",
    "    7: ['I1', 'I2', 'I3', 'I5'],\n",
    "    8: ['I1', 'I2', 'I3']\n",
    "}\n",
    "\n",
    "fp_tree = create_fp_tree(dataset)\n",
    "\n",
    "# Define the print tree function to prin the FP tree in a tree like structure\n",
    "\n",
    "def print_tree(node, indent = 0):\n",
    "    print(\"  \"*indent + str(node['item']) + ' (' + str(node['count']) + ' (')\n",
    "    for child_node in node['children'].value():\n",
    "        print_tree(child_node, indenet + 1)\n",
    "        \n",
    "print(fp_tree)"
   ]
  },
  {
   "cell_type": "code",
   "execution_count": null,
   "id": "2e77ab48",
   "metadata": {},
   "outputs": [],
   "source": []
  }
 ],
 "metadata": {
  "kernelspec": {
   "display_name": "Python 3",
   "language": "python",
   "name": "python3"
  },
  "language_info": {
   "codemirror_mode": {
    "name": "ipython",
    "version": 3
   },
   "file_extension": ".py",
   "mimetype": "text/x-python",
   "name": "python",
   "nbconvert_exporter": "python",
   "pygments_lexer": "ipython3",
   "version": "3.8.8"
  }
 },
 "nbformat": 4,
 "nbformat_minor": 5
}
